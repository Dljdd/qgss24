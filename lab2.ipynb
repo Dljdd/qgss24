{
  "cells": [
    {
      "cell_type": "markdown",
      "metadata": {
        "id": "MRQ1BslQLcjA"
      },
      "source": [
        "# Lab 2: Utility-Scale Layer Fidelity Experiment\n",
        "\n",
        "Samantha Barron, Haimeng Zhang"
      ]
    },
    {
      "cell_type": "markdown",
      "metadata": {
        "id": "J9gsKnoVLcjC"
      },
      "source": [
        "In this lab we will show a guided construction of how to calculate the EPLG (Error Per Layered Gate) and LF (Layer Fidelity). These metrics quantify error rates in a circuit, and are particularly useful in understanding the overhead required to run error mitigation at utility-scale workloads.\n",
        "\n",
        "For more details on the background of these metrics, see the [Quantum Research Blog post](https://www.ibm.com/quantum/blog/quantum-metric-layer-fidelity) or the associated technical paper, [Benchmarking Quantum Processor Performance at Scale](https://arxiv.org/abs/2311.05933). You can also find an implementation of the Layer Fidelity experiment [here](https://github.com/qiskit-community/qiskit-device-benchmarking/blob/main/notebooks/layer_fidelity.ipynb) using `qiskit-experiments` module, whereas, in this notebook, we will directly use Qiskit Runtime Primitives for circuit execution.\n",
        "\n",
        "The first few parts of this lab contain graded exercises, whereas the latter portions of this lab are a guided walkthrough of how to use the Qiskit Runtime to do these utility-scale calculations.\n",
        "\n",
        "Table of Contents:\n",
        "- In Section 0 we list the package requirement to run this notebook.\n",
        "- In Sections 1-3 we will set up the layers and associated circuits which define the disjoint sets of qubits on which we will perform EPLG calculations.\n",
        "- In Section 4 we construct the total EPLG circuits.\n",
        "- In Section 5-7 we construct the `BindingsArray`, `ObservablesArray`s, and `EstimatorPub`s for the EPLG characterization.\n",
        "- In Section 8 we submit these to the `EstimatorV2` Qiskit Runtime Primitive.\n",
        "- In Section 9 we perform the data analysis and fittings used to extract the EPLG and LF with the resulting data."
      ]
    },
    {
      "cell_type": "markdown",
      "metadata": {
        "id": "kK2rKv5dLcjC"
      },
      "source": [
        "# Part 0: Requirements\n",
        "\n",
        "To run this notebook, you will need to install the following packages:\n",
        "\n",
        "For circuit construction and execution on the IBM Quantum hardware:\n",
        "```\n",
        "qiskit >= 1.0.0\n",
        "qiskit-ibm-runtime >= 0.21.1\n",
        "```\n",
        "For data analysis and display:\n",
        "```\n",
        "lmfit\n",
        "pandas\n",
        "```"
      ]
    },
    {
      "cell_type": "code",
      "source": [
        "!pip install qiskit\n",
        "!pip install qiskit_aer\n",
        "!pip install qiskit_ibm_runtime\n",
        "!pip install git+https://github.com/qiskit-community/Quantum-Challenge-Grader.git\n",
        "!pip install lmfit\n"
      ],
      "metadata": {
        "colab": {
          "base_uri": "https://localhost:8080/"
        },
        "id": "BBwsFsVxM8uW",
        "outputId": "e2ff3d7c-f120-4b12-a11e-3af10f5a557b"
      },
      "execution_count": null,
      "outputs": [
        {
          "output_type": "stream",
          "name": "stdout",
          "text": [
            "Collecting git+https://github.com/qiskit-community/Quantum-Challenge-Grader.git\n",
            "  Cloning https://github.com/qiskit-community/Quantum-Challenge-Grader.git to /tmp/pip-req-build-k5pdewqg\n",
            "  Running command git clone --filter=blob:none --quiet https://github.com/qiskit-community/Quantum-Challenge-Grader.git /tmp/pip-req-build-k5pdewqg\n",
            "  Resolved https://github.com/qiskit-community/Quantum-Challenge-Grader.git to commit bcaff898473fd54f3e2668f162817947787f7268\n",
            "  Preparing metadata (setup.py) ... \u001b[?25l\u001b[?25hdone\n",
            "Collecting typeguard (from qc-grader==0.19.7)\n",
            "  Downloading typeguard-4.3.0-py3-none-any.whl (35 kB)\n",
            "Collecting jsonpickle==3.0.3 (from qc-grader==0.19.7)\n",
            "  Downloading jsonpickle-3.0.3-py3-none-any.whl (40 kB)\n",
            "\u001b[2K     \u001b[90m━━━━━━━━━━━━━━━━━━━━━━━━━━━━━━━━━━━━━━━━\u001b[0m \u001b[32m40.8/40.8 kB\u001b[0m \u001b[31m2.3 MB/s\u001b[0m eta \u001b[36m0:00:00\u001b[0m\n",
            "\u001b[?25hCollecting ipycytoscape (from qc-grader==0.19.7)\n",
            "  Downloading ipycytoscape-1.3.3-py2.py3-none-any.whl (3.6 MB)\n",
            "\u001b[2K     \u001b[90m━━━━━━━━━━━━━━━━━━━━━━━━━━━━━━━━━━━━━━━━\u001b[0m \u001b[32m3.6/3.6 MB\u001b[0m \u001b[31m8.7 MB/s\u001b[0m eta \u001b[36m0:00:00\u001b[0m\n",
            "\u001b[?25hRequirement already satisfied: plotly in /usr/local/lib/python3.10/dist-packages (from qc-grader==0.19.7) (5.15.0)\n",
            "Collecting networkx==3.2.1 (from qc-grader==0.19.7)\n",
            "  Downloading networkx-3.2.1-py3-none-any.whl (1.6 MB)\n",
            "\u001b[2K     \u001b[90m━━━━━━━━━━━━━━━━━━━━━━━━━━━━━━━━━━━━━━━━\u001b[0m \u001b[32m1.6/1.6 MB\u001b[0m \u001b[31m29.3 MB/s\u001b[0m eta \u001b[36m0:00:00\u001b[0m\n",
            "\u001b[?25hRequirement already satisfied: graphviz in /usr/local/lib/python3.10/dist-packages (from qc-grader==0.19.7) (0.20.3)\n",
            "Requirement already satisfied: ipywidgets>=7.6.0 in /usr/local/lib/python3.10/dist-packages (from ipycytoscape->qc-grader==0.19.7) (7.7.1)\n",
            "Collecting spectate>=1.0.0 (from ipycytoscape->qc-grader==0.19.7)\n",
            "  Downloading spectate-1.0.1-py2.py3-none-any.whl (11 kB)\n",
            "Requirement already satisfied: tenacity>=6.2.0 in /usr/local/lib/python3.10/dist-packages (from plotly->qc-grader==0.19.7) (8.5.0)\n",
            "Requirement already satisfied: packaging in /usr/local/lib/python3.10/dist-packages (from plotly->qc-grader==0.19.7) (24.1)\n",
            "Requirement already satisfied: typing-extensions>=4.10.0 in /usr/local/lib/python3.10/dist-packages (from typeguard->qc-grader==0.19.7) (4.12.2)\n",
            "Requirement already satisfied: ipykernel>=4.5.1 in /usr/local/lib/python3.10/dist-packages (from ipywidgets>=7.6.0->ipycytoscape->qc-grader==0.19.7) (5.5.6)\n",
            "Requirement already satisfied: ipython-genutils~=0.2.0 in /usr/local/lib/python3.10/dist-packages (from ipywidgets>=7.6.0->ipycytoscape->qc-grader==0.19.7) (0.2.0)\n",
            "Requirement already satisfied: traitlets>=4.3.1 in /usr/local/lib/python3.10/dist-packages (from ipywidgets>=7.6.0->ipycytoscape->qc-grader==0.19.7) (5.7.1)\n",
            "Requirement already satisfied: widgetsnbextension~=3.6.0 in /usr/local/lib/python3.10/dist-packages (from ipywidgets>=7.6.0->ipycytoscape->qc-grader==0.19.7) (3.6.7)\n",
            "Requirement already satisfied: ipython>=4.0.0 in /usr/local/lib/python3.10/dist-packages (from ipywidgets>=7.6.0->ipycytoscape->qc-grader==0.19.7) (7.34.0)\n",
            "Requirement already satisfied: jupyterlab-widgets>=1.0.0 in /usr/local/lib/python3.10/dist-packages (from ipywidgets>=7.6.0->ipycytoscape->qc-grader==0.19.7) (3.0.11)\n",
            "Requirement already satisfied: jupyter-client in /usr/local/lib/python3.10/dist-packages (from ipykernel>=4.5.1->ipywidgets>=7.6.0->ipycytoscape->qc-grader==0.19.7) (6.1.12)\n",
            "Requirement already satisfied: tornado>=4.2 in /usr/local/lib/python3.10/dist-packages (from ipykernel>=4.5.1->ipywidgets>=7.6.0->ipycytoscape->qc-grader==0.19.7) (6.3.3)\n",
            "Requirement already satisfied: setuptools>=18.5 in /usr/local/lib/python3.10/dist-packages (from ipython>=4.0.0->ipywidgets>=7.6.0->ipycytoscape->qc-grader==0.19.7) (67.7.2)\n",
            "Collecting jedi>=0.16 (from ipython>=4.0.0->ipywidgets>=7.6.0->ipycytoscape->qc-grader==0.19.7)\n",
            "  Downloading jedi-0.19.1-py2.py3-none-any.whl (1.6 MB)\n",
            "\u001b[2K     \u001b[90m━━━━━━━━━━━━━━━━━━━━━━━━━━━━━━━━━━━━━━━━\u001b[0m \u001b[32m1.6/1.6 MB\u001b[0m \u001b[31m33.8 MB/s\u001b[0m eta \u001b[36m0:00:00\u001b[0m\n",
            "\u001b[?25hRequirement already satisfied: decorator in /usr/local/lib/python3.10/dist-packages (from ipython>=4.0.0->ipywidgets>=7.6.0->ipycytoscape->qc-grader==0.19.7) (4.4.2)\n",
            "Requirement already satisfied: pickleshare in /usr/local/lib/python3.10/dist-packages (from ipython>=4.0.0->ipywidgets>=7.6.0->ipycytoscape->qc-grader==0.19.7) (0.7.5)\n",
            "Requirement already satisfied: prompt-toolkit!=3.0.0,!=3.0.1,<3.1.0,>=2.0.0 in /usr/local/lib/python3.10/dist-packages (from ipython>=4.0.0->ipywidgets>=7.6.0->ipycytoscape->qc-grader==0.19.7) (3.0.47)\n",
            "Requirement already satisfied: pygments in /usr/local/lib/python3.10/dist-packages (from ipython>=4.0.0->ipywidgets>=7.6.0->ipycytoscape->qc-grader==0.19.7) (2.16.1)\n",
            "Requirement already satisfied: backcall in /usr/local/lib/python3.10/dist-packages (from ipython>=4.0.0->ipywidgets>=7.6.0->ipycytoscape->qc-grader==0.19.7) (0.2.0)\n",
            "Requirement already satisfied: matplotlib-inline in /usr/local/lib/python3.10/dist-packages (from ipython>=4.0.0->ipywidgets>=7.6.0->ipycytoscape->qc-grader==0.19.7) (0.1.7)\n",
            "Requirement already satisfied: pexpect>4.3 in /usr/local/lib/python3.10/dist-packages (from ipython>=4.0.0->ipywidgets>=7.6.0->ipycytoscape->qc-grader==0.19.7) (4.9.0)\n",
            "Requirement already satisfied: notebook>=4.4.1 in /usr/local/lib/python3.10/dist-packages (from widgetsnbextension~=3.6.0->ipywidgets>=7.6.0->ipycytoscape->qc-grader==0.19.7) (6.5.5)\n",
            "Requirement already satisfied: parso<0.9.0,>=0.8.3 in /usr/local/lib/python3.10/dist-packages (from jedi>=0.16->ipython>=4.0.0->ipywidgets>=7.6.0->ipycytoscape->qc-grader==0.19.7) (0.8.4)\n",
            "Requirement already satisfied: jinja2 in /usr/local/lib/python3.10/dist-packages (from notebook>=4.4.1->widgetsnbextension~=3.6.0->ipywidgets>=7.6.0->ipycytoscape->qc-grader==0.19.7) (3.1.4)\n",
            "Requirement already satisfied: pyzmq<25,>=17 in /usr/local/lib/python3.10/dist-packages (from notebook>=4.4.1->widgetsnbextension~=3.6.0->ipywidgets>=7.6.0->ipycytoscape->qc-grader==0.19.7) (24.0.1)\n",
            "Requirement already satisfied: argon2-cffi in /usr/local/lib/python3.10/dist-packages (from notebook>=4.4.1->widgetsnbextension~=3.6.0->ipywidgets>=7.6.0->ipycytoscape->qc-grader==0.19.7) (23.1.0)\n",
            "Requirement already satisfied: jupyter-core>=4.6.1 in /usr/local/lib/python3.10/dist-packages (from notebook>=4.4.1->widgetsnbextension~=3.6.0->ipywidgets>=7.6.0->ipycytoscape->qc-grader==0.19.7) (5.7.2)\n",
            "Requirement already satisfied: nbformat in /usr/local/lib/python3.10/dist-packages (from notebook>=4.4.1->widgetsnbextension~=3.6.0->ipywidgets>=7.6.0->ipycytoscape->qc-grader==0.19.7) (5.10.4)\n",
            "Requirement already satisfied: nbconvert>=5 in /usr/local/lib/python3.10/dist-packages (from notebook>=4.4.1->widgetsnbextension~=3.6.0->ipywidgets>=7.6.0->ipycytoscape->qc-grader==0.19.7) (6.5.4)\n",
            "Requirement already satisfied: nest-asyncio>=1.5 in /usr/local/lib/python3.10/dist-packages (from notebook>=4.4.1->widgetsnbextension~=3.6.0->ipywidgets>=7.6.0->ipycytoscape->qc-grader==0.19.7) (1.6.0)\n",
            "Requirement already satisfied: Send2Trash>=1.8.0 in /usr/local/lib/python3.10/dist-packages (from notebook>=4.4.1->widgetsnbextension~=3.6.0->ipywidgets>=7.6.0->ipycytoscape->qc-grader==0.19.7) (1.8.3)\n",
            "Requirement already satisfied: terminado>=0.8.3 in /usr/local/lib/python3.10/dist-packages (from notebook>=4.4.1->widgetsnbextension~=3.6.0->ipywidgets>=7.6.0->ipycytoscape->qc-grader==0.19.7) (0.18.1)\n",
            "Requirement already satisfied: prometheus-client in /usr/local/lib/python3.10/dist-packages (from notebook>=4.4.1->widgetsnbextension~=3.6.0->ipywidgets>=7.6.0->ipycytoscape->qc-grader==0.19.7) (0.20.0)\n",
            "Requirement already satisfied: nbclassic>=0.4.7 in /usr/local/lib/python3.10/dist-packages (from notebook>=4.4.1->widgetsnbextension~=3.6.0->ipywidgets>=7.6.0->ipycytoscape->qc-grader==0.19.7) (1.1.0)\n",
            "Requirement already satisfied: python-dateutil>=2.1 in /usr/local/lib/python3.10/dist-packages (from jupyter-client->ipykernel>=4.5.1->ipywidgets>=7.6.0->ipycytoscape->qc-grader==0.19.7) (2.8.2)\n",
            "Requirement already satisfied: ptyprocess>=0.5 in /usr/local/lib/python3.10/dist-packages (from pexpect>4.3->ipython>=4.0.0->ipywidgets>=7.6.0->ipycytoscape->qc-grader==0.19.7) (0.7.0)\n",
            "Requirement already satisfied: wcwidth in /usr/local/lib/python3.10/dist-packages (from prompt-toolkit!=3.0.0,!=3.0.1,<3.1.0,>=2.0.0->ipython>=4.0.0->ipywidgets>=7.6.0->ipycytoscape->qc-grader==0.19.7) (0.2.13)\n",
            "Requirement already satisfied: platformdirs>=2.5 in /usr/local/lib/python3.10/dist-packages (from jupyter-core>=4.6.1->notebook>=4.4.1->widgetsnbextension~=3.6.0->ipywidgets>=7.6.0->ipycytoscape->qc-grader==0.19.7) (4.2.2)\n",
            "Requirement already satisfied: notebook-shim>=0.2.3 in /usr/local/lib/python3.10/dist-packages (from nbclassic>=0.4.7->notebook>=4.4.1->widgetsnbextension~=3.6.0->ipywidgets>=7.6.0->ipycytoscape->qc-grader==0.19.7) (0.2.4)\n",
            "Requirement already satisfied: lxml in /usr/local/lib/python3.10/dist-packages (from nbconvert>=5->notebook>=4.4.1->widgetsnbextension~=3.6.0->ipywidgets>=7.6.0->ipycytoscape->qc-grader==0.19.7) (4.9.4)\n",
            "Requirement already satisfied: beautifulsoup4 in /usr/local/lib/python3.10/dist-packages (from nbconvert>=5->notebook>=4.4.1->widgetsnbextension~=3.6.0->ipywidgets>=7.6.0->ipycytoscape->qc-grader==0.19.7) (4.12.3)\n",
            "Requirement already satisfied: bleach in /usr/local/lib/python3.10/dist-packages (from nbconvert>=5->notebook>=4.4.1->widgetsnbextension~=3.6.0->ipywidgets>=7.6.0->ipycytoscape->qc-grader==0.19.7) (6.1.0)\n",
            "Requirement already satisfied: defusedxml in /usr/local/lib/python3.10/dist-packages (from nbconvert>=5->notebook>=4.4.1->widgetsnbextension~=3.6.0->ipywidgets>=7.6.0->ipycytoscape->qc-grader==0.19.7) (0.7.1)\n",
            "Requirement already satisfied: entrypoints>=0.2.2 in /usr/local/lib/python3.10/dist-packages (from nbconvert>=5->notebook>=4.4.1->widgetsnbextension~=3.6.0->ipywidgets>=7.6.0->ipycytoscape->qc-grader==0.19.7) (0.4)\n",
            "Requirement already satisfied: jupyterlab-pygments in /usr/local/lib/python3.10/dist-packages (from nbconvert>=5->notebook>=4.4.1->widgetsnbextension~=3.6.0->ipywidgets>=7.6.0->ipycytoscape->qc-grader==0.19.7) (0.3.0)\n",
            "Requirement already satisfied: MarkupSafe>=2.0 in /usr/local/lib/python3.10/dist-packages (from nbconvert>=5->notebook>=4.4.1->widgetsnbextension~=3.6.0->ipywidgets>=7.6.0->ipycytoscape->qc-grader==0.19.7) (2.1.5)\n",
            "Requirement already satisfied: mistune<2,>=0.8.1 in /usr/local/lib/python3.10/dist-packages (from nbconvert>=5->notebook>=4.4.1->widgetsnbextension~=3.6.0->ipywidgets>=7.6.0->ipycytoscape->qc-grader==0.19.7) (0.8.4)\n",
            "Requirement already satisfied: nbclient>=0.5.0 in /usr/local/lib/python3.10/dist-packages (from nbconvert>=5->notebook>=4.4.1->widgetsnbextension~=3.6.0->ipywidgets>=7.6.0->ipycytoscape->qc-grader==0.19.7) (0.10.0)\n",
            "Requirement already satisfied: pandocfilters>=1.4.1 in /usr/local/lib/python3.10/dist-packages (from nbconvert>=5->notebook>=4.4.1->widgetsnbextension~=3.6.0->ipywidgets>=7.6.0->ipycytoscape->qc-grader==0.19.7) (1.5.1)\n",
            "Requirement already satisfied: tinycss2 in /usr/local/lib/python3.10/dist-packages (from nbconvert>=5->notebook>=4.4.1->widgetsnbextension~=3.6.0->ipywidgets>=7.6.0->ipycytoscape->qc-grader==0.19.7) (1.3.0)\n",
            "Requirement already satisfied: fastjsonschema>=2.15 in /usr/local/lib/python3.10/dist-packages (from nbformat->notebook>=4.4.1->widgetsnbextension~=3.6.0->ipywidgets>=7.6.0->ipycytoscape->qc-grader==0.19.7) (2.20.0)\n",
            "Requirement already satisfied: jsonschema>=2.6 in /usr/local/lib/python3.10/dist-packages (from nbformat->notebook>=4.4.1->widgetsnbextension~=3.6.0->ipywidgets>=7.6.0->ipycytoscape->qc-grader==0.19.7) (4.19.2)\n",
            "Requirement already satisfied: six>=1.5 in /usr/local/lib/python3.10/dist-packages (from python-dateutil>=2.1->jupyter-client->ipykernel>=4.5.1->ipywidgets>=7.6.0->ipycytoscape->qc-grader==0.19.7) (1.16.0)\n",
            "Requirement already satisfied: argon2-cffi-bindings in /usr/local/lib/python3.10/dist-packages (from argon2-cffi->notebook>=4.4.1->widgetsnbextension~=3.6.0->ipywidgets>=7.6.0->ipycytoscape->qc-grader==0.19.7) (21.2.0)\n",
            "Requirement already satisfied: attrs>=22.2.0 in /usr/local/lib/python3.10/dist-packages (from jsonschema>=2.6->nbformat->notebook>=4.4.1->widgetsnbextension~=3.6.0->ipywidgets>=7.6.0->ipycytoscape->qc-grader==0.19.7) (23.2.0)\n",
            "Requirement already satisfied: jsonschema-specifications>=2023.03.6 in /usr/local/lib/python3.10/dist-packages (from jsonschema>=2.6->nbformat->notebook>=4.4.1->widgetsnbextension~=3.6.0->ipywidgets>=7.6.0->ipycytoscape->qc-grader==0.19.7) (2023.12.1)\n",
            "Requirement already satisfied: referencing>=0.28.4 in /usr/local/lib/python3.10/dist-packages (from jsonschema>=2.6->nbformat->notebook>=4.4.1->widgetsnbextension~=3.6.0->ipywidgets>=7.6.0->ipycytoscape->qc-grader==0.19.7) (0.35.1)\n",
            "Requirement already satisfied: rpds-py>=0.7.1 in /usr/local/lib/python3.10/dist-packages (from jsonschema>=2.6->nbformat->notebook>=4.4.1->widgetsnbextension~=3.6.0->ipywidgets>=7.6.0->ipycytoscape->qc-grader==0.19.7) (0.19.0)\n",
            "Requirement already satisfied: jupyter-server<3,>=1.8 in /usr/local/lib/python3.10/dist-packages (from notebook-shim>=0.2.3->nbclassic>=0.4.7->notebook>=4.4.1->widgetsnbextension~=3.6.0->ipywidgets>=7.6.0->ipycytoscape->qc-grader==0.19.7) (1.24.0)\n",
            "Requirement already satisfied: cffi>=1.0.1 in /usr/local/lib/python3.10/dist-packages (from argon2-cffi-bindings->argon2-cffi->notebook>=4.4.1->widgetsnbextension~=3.6.0->ipywidgets>=7.6.0->ipycytoscape->qc-grader==0.19.7) (1.16.0)\n",
            "Requirement already satisfied: soupsieve>1.2 in /usr/local/lib/python3.10/dist-packages (from beautifulsoup4->nbconvert>=5->notebook>=4.4.1->widgetsnbextension~=3.6.0->ipywidgets>=7.6.0->ipycytoscape->qc-grader==0.19.7) (2.5)\n",
            "Requirement already satisfied: webencodings in /usr/local/lib/python3.10/dist-packages (from bleach->nbconvert>=5->notebook>=4.4.1->widgetsnbextension~=3.6.0->ipywidgets>=7.6.0->ipycytoscape->qc-grader==0.19.7) (0.5.1)\n",
            "Requirement already satisfied: pycparser in /usr/local/lib/python3.10/dist-packages (from cffi>=1.0.1->argon2-cffi-bindings->argon2-cffi->notebook>=4.4.1->widgetsnbextension~=3.6.0->ipywidgets>=7.6.0->ipycytoscape->qc-grader==0.19.7) (2.22)\n",
            "Requirement already satisfied: anyio<4,>=3.1.0 in /usr/local/lib/python3.10/dist-packages (from jupyter-server<3,>=1.8->notebook-shim>=0.2.3->nbclassic>=0.4.7->notebook>=4.4.1->widgetsnbextension~=3.6.0->ipywidgets>=7.6.0->ipycytoscape->qc-grader==0.19.7) (3.7.1)\n",
            "Requirement already satisfied: websocket-client in /usr/local/lib/python3.10/dist-packages (from jupyter-server<3,>=1.8->notebook-shim>=0.2.3->nbclassic>=0.4.7->notebook>=4.4.1->widgetsnbextension~=3.6.0->ipywidgets>=7.6.0->ipycytoscape->qc-grader==0.19.7) (1.8.0)\n",
            "Requirement already satisfied: idna>=2.8 in /usr/local/lib/python3.10/dist-packages (from anyio<4,>=3.1.0->jupyter-server<3,>=1.8->notebook-shim>=0.2.3->nbclassic>=0.4.7->notebook>=4.4.1->widgetsnbextension~=3.6.0->ipywidgets>=7.6.0->ipycytoscape->qc-grader==0.19.7) (3.7)\n",
            "Requirement already satisfied: sniffio>=1.1 in /usr/local/lib/python3.10/dist-packages (from anyio<4,>=3.1.0->jupyter-server<3,>=1.8->notebook-shim>=0.2.3->nbclassic>=0.4.7->notebook>=4.4.1->widgetsnbextension~=3.6.0->ipywidgets>=7.6.0->ipycytoscape->qc-grader==0.19.7) (1.3.1)\n",
            "Requirement already satisfied: exceptiongroup in /usr/local/lib/python3.10/dist-packages (from anyio<4,>=3.1.0->jupyter-server<3,>=1.8->notebook-shim>=0.2.3->nbclassic>=0.4.7->notebook>=4.4.1->widgetsnbextension~=3.6.0->ipywidgets>=7.6.0->ipycytoscape->qc-grader==0.19.7) (1.2.2)\n",
            "Building wheels for collected packages: qc-grader\n",
            "  Building wheel for qc-grader (setup.py) ... \u001b[?25l\u001b[?25hdone\n",
            "  Created wheel for qc-grader: filename=qc_grader-0.19.7-py3-none-any.whl size=41434 sha256=b743e4e14ea980337e865d1d09ad101358cee4d49b158963aa7c488aa0dfe34c\n",
            "  Stored in directory: /tmp/pip-ephem-wheel-cache-gonmuuz3/wheels/7e/67/91/88d6a5b4dd4beb318ed4e79c807e2be98b7d3c2ea66565a116\n",
            "Successfully built qc-grader\n",
            "Installing collected packages: typeguard, spectate, networkx, jsonpickle, jedi, ipycytoscape, qc-grader\n",
            "  Attempting uninstall: networkx\n",
            "    Found existing installation: networkx 3.3\n",
            "    Uninstalling networkx-3.3:\n",
            "      Successfully uninstalled networkx-3.3\n",
            "  Attempting uninstall: jsonpickle\n",
            "    Found existing installation: jsonpickle 3.2.2\n",
            "    Uninstalling jsonpickle-3.2.2:\n",
            "      Successfully uninstalled jsonpickle-3.2.2\n",
            "\u001b[31mERROR: pip's dependency resolver does not currently take into account all the packages that are installed. This behaviour is the source of the following dependency conflicts.\n",
            "torch 2.3.1+cu121 requires nvidia-cublas-cu12==12.1.3.1; platform_system == \"Linux\" and platform_machine == \"x86_64\", which is not installed.\n",
            "torch 2.3.1+cu121 requires nvidia-cuda-cupti-cu12==12.1.105; platform_system == \"Linux\" and platform_machine == \"x86_64\", which is not installed.\n",
            "torch 2.3.1+cu121 requires nvidia-cuda-nvrtc-cu12==12.1.105; platform_system == \"Linux\" and platform_machine == \"x86_64\", which is not installed.\n",
            "torch 2.3.1+cu121 requires nvidia-cuda-runtime-cu12==12.1.105; platform_system == \"Linux\" and platform_machine == \"x86_64\", which is not installed.\n",
            "torch 2.3.1+cu121 requires nvidia-cudnn-cu12==8.9.2.26; platform_system == \"Linux\" and platform_machine == \"x86_64\", which is not installed.\n",
            "torch 2.3.1+cu121 requires nvidia-cufft-cu12==11.0.2.54; platform_system == \"Linux\" and platform_machine == \"x86_64\", which is not installed.\n",
            "torch 2.3.1+cu121 requires nvidia-curand-cu12==10.3.2.106; platform_system == \"Linux\" and platform_machine == \"x86_64\", which is not installed.\n",
            "torch 2.3.1+cu121 requires nvidia-cusolver-cu12==11.4.5.107; platform_system == \"Linux\" and platform_machine == \"x86_64\", which is not installed.\n",
            "torch 2.3.1+cu121 requires nvidia-cusparse-cu12==12.1.0.106; platform_system == \"Linux\" and platform_machine == \"x86_64\", which is not installed.\n",
            "torch 2.3.1+cu121 requires nvidia-nccl-cu12==2.20.5; platform_system == \"Linux\" and platform_machine == \"x86_64\", which is not installed.\n",
            "torch 2.3.1+cu121 requires nvidia-nvtx-cu12==12.1.105; platform_system == \"Linux\" and platform_machine == \"x86_64\", which is not installed.\u001b[0m\u001b[31m\n",
            "\u001b[0mSuccessfully installed ipycytoscape-1.3.3 jedi-0.19.1 jsonpickle-3.0.3 networkx-3.2.1 qc-grader-0.19.7 spectate-1.0.1 typeguard-4.3.0\n",
            "Collecting lmfit\n",
            "  Downloading lmfit-1.3.2-py3-none-any.whl (98 kB)\n",
            "\u001b[2K     \u001b[90m━━━━━━━━━━━━━━━━━━━━━━━━━━━━━━━━━━━━━━━━\u001b[0m \u001b[32m98.9/98.9 kB\u001b[0m \u001b[31m2.8 MB/s\u001b[0m eta \u001b[36m0:00:00\u001b[0m\n",
            "\u001b[?25hCollecting asteval>=1.0 (from lmfit)\n",
            "  Downloading asteval-1.0.1-py3-none-any.whl (21 kB)\n",
            "Requirement already satisfied: numpy>=1.19 in /usr/local/lib/python3.10/dist-packages (from lmfit) (1.25.2)\n",
            "Requirement already satisfied: scipy>=1.6 in /usr/local/lib/python3.10/dist-packages (from lmfit) (1.11.4)\n",
            "Collecting uncertainties>=3.2.2 (from lmfit)\n",
            "  Downloading uncertainties-3.2.2-py3-none-any.whl (58 kB)\n",
            "\u001b[2K     \u001b[90m━━━━━━━━━━━━━━━━━━━━━━━━━━━━━━━━━━━━━━━━\u001b[0m \u001b[32m58.3/58.3 kB\u001b[0m \u001b[31m5.4 MB/s\u001b[0m eta \u001b[36m0:00:00\u001b[0m\n",
            "\u001b[?25hRequirement already satisfied: dill>=0.3.4 in /usr/local/lib/python3.10/dist-packages (from lmfit) (0.3.8)\n",
            "Installing collected packages: uncertainties, asteval, lmfit\n",
            "Successfully installed asteval-1.0.1 lmfit-1.3.2 uncertainties-3.2.2\n"
          ]
        }
      ]
    },
    {
      "cell_type": "code",
      "source": [
        "!pip install qiskit_aer\n"
      ],
      "metadata": {
        "colab": {
          "base_uri": "https://localhost:8080/"
        },
        "id": "eOcJO250xRLC",
        "outputId": "aff315aa-8479-470c-c547-f9dd96bb7652"
      },
      "execution_count": null,
      "outputs": [
        {
          "output_type": "stream",
          "name": "stdout",
          "text": [
            "Collecting qiskit_aer\n",
            "  Downloading qiskit_aer-0.14.2-cp310-cp310-manylinux_2_17_x86_64.manylinux2014_x86_64.whl (12.4 MB)\n",
            "\u001b[2K     \u001b[90m━━━━━━━━━━━━━━━━━━━━━━━━━━━━━━━━━━━━━━━━\u001b[0m \u001b[32m12.4/12.4 MB\u001b[0m \u001b[31m29.6 MB/s\u001b[0m eta \u001b[36m0:00:00\u001b[0m\n",
            "\u001b[?25hRequirement already satisfied: qiskit>=0.45.2 in /usr/local/lib/python3.10/dist-packages (from qiskit_aer) (1.1.1)\n",
            "Requirement already satisfied: numpy>=1.16.3 in /usr/local/lib/python3.10/dist-packages (from qiskit_aer) (1.25.2)\n",
            "Requirement already satisfied: scipy>=1.0 in /usr/local/lib/python3.10/dist-packages (from qiskit_aer) (1.11.4)\n",
            "Requirement already satisfied: psutil>=5 in /usr/local/lib/python3.10/dist-packages (from qiskit_aer) (5.9.5)\n",
            "Requirement already satisfied: rustworkx>=0.14.0 in /usr/local/lib/python3.10/dist-packages (from qiskit>=0.45.2->qiskit_aer) (0.15.1)\n",
            "Requirement already satisfied: sympy>=1.3 in /usr/local/lib/python3.10/dist-packages (from qiskit>=0.45.2->qiskit_aer) (1.13.0)\n",
            "Requirement already satisfied: dill>=0.3 in /usr/local/lib/python3.10/dist-packages (from qiskit>=0.45.2->qiskit_aer) (0.3.8)\n",
            "Requirement already satisfied: python-dateutil>=2.8.0 in /usr/local/lib/python3.10/dist-packages (from qiskit>=0.45.2->qiskit_aer) (2.8.2)\n",
            "Requirement already satisfied: stevedore>=3.0.0 in /usr/local/lib/python3.10/dist-packages (from qiskit>=0.45.2->qiskit_aer) (5.2.0)\n",
            "Requirement already satisfied: typing-extensions in /usr/local/lib/python3.10/dist-packages (from qiskit>=0.45.2->qiskit_aer) (4.12.2)\n",
            "Requirement already satisfied: symengine>=0.11 in /usr/local/lib/python3.10/dist-packages (from qiskit>=0.45.2->qiskit_aer) (0.11.0)\n",
            "Requirement already satisfied: six>=1.5 in /usr/local/lib/python3.10/dist-packages (from python-dateutil>=2.8.0->qiskit>=0.45.2->qiskit_aer) (1.16.0)\n",
            "Requirement already satisfied: pbr!=2.1.0,>=2.0.0 in /usr/local/lib/python3.10/dist-packages (from stevedore>=3.0.0->qiskit>=0.45.2->qiskit_aer) (6.0.0)\n",
            "Requirement already satisfied: mpmath<1.4,>=1.1.0 in /usr/local/lib/python3.10/dist-packages (from sympy>=1.3->qiskit>=0.45.2->qiskit_aer) (1.3.0)\n",
            "Installing collected packages: qiskit_aer\n",
            "Successfully installed qiskit_aer-0.14.2\n"
          ]
        }
      ]
    },
    {
      "cell_type": "code",
      "source": [
        "from qiskit_ibm_runtime import QiskitRuntimeService"
      ],
      "metadata": {
        "id": "B4V8baQawy1_"
      },
      "execution_count": null,
      "outputs": []
    },
    {
      "cell_type": "code",
      "execution_count": null,
      "metadata": {
        "colab": {
          "base_uri": "https://localhost:8080/"
        },
        "id": "N6ewVM-8LcjC",
        "outputId": "2867fd33-0ac5-4493-87e0-dad269ac53ba"
      },
      "outputs": [
        {
          "output_type": "stream",
          "name": "stdout",
          "text": [
            "env: QXToken=fba776273b648fba6dec10ecc4471f846c2897d40117644f4ec47098c968d970f615cf3dd8784ade462073779b5c03b085e3fa00d6c810a678f229c9cd822c08\n"
          ]
        }
      ],
      "source": [
        "%set_env QXToken=fba776273b648fba6dec10ecc4471f846c2897d40117644f4ec47098c968d970f615cf3dd8784ade462073779b5c03b085e3fa00d6c810a678f229c9cd822c08"
      ]
    },
    {
      "cell_type": "markdown",
      "metadata": {
        "id": "9-IrjNASLcjD"
      },
      "source": [
        "# Part 1: Define 1-D Chain\n",
        "To start, we will choose a backend. In this lab you can choose whatever backend you want.\n",
        "\n",
        "In order to compute the EPLG and LF, we need to choose a chain of qubits on the device to characterize. The first problem is this, you should provide:\n",
        "1. A chain of qubits on the device which is a simply connected path graph of qubits on the device. I.e., provide a list `PATH_ANSWER: list[int]` whose elements are physical qubits on the device, and adjacent elements of the list are connected on the coupling map by edges. The list should contain at least `3` elements.\n",
        "2. The backend you have chosen: `BACKEND: IBMBackend`.\n",
        "\n",
        "Answers to grade:\n",
        "- `PATH_ANSWER: list[int]`\n",
        "- `BACKEND: IBMBackend`"
      ]
    },
    {
      "cell_type": "code",
      "execution_count": null,
      "metadata": {
        "id": "pQck2os6LcjD"
      },
      "outputs": [],
      "source": [
        "# from qiskit_ibm_runtime import QiskitRuntimeService\n",
        "\n",
        "QiskitRuntimeService.save_account(\n",
        "    channel=\"ibm_quantum\",\n",
        "    token=\"fba776273b648fba6dec10ecc4471f846c2897d40117644f4ec47098c968d970f615cf3dd8784ade462073779b5c03b085e3fa00d6c810a678f229c9cd822c08\",\n",
        "    set_as_default=True,\n",
        "\n",
        ")\n",
        "service = QiskitRuntimeService()"
      ]
    },
    {
      "cell_type": "code",
      "execution_count": null,
      "metadata": {
        "id": "42PWMiBULcjD"
      },
      "outputs": [],
      "source": [
        "# part 1: pick a backend and define 1-D chain\n",
        "\n",
        "### Your code goes here ###\n",
        "\n",
        "BACKEND = QiskitRuntimeService().backend(name='ibm_brisbane')\n",
        "\n",
        "PATH_ANSWER = [0,1,2]"
      ]
    },
    {
      "cell_type": "code",
      "execution_count": null,
      "metadata": {
        "colab": {
          "base_uri": "https://localhost:8080/"
        },
        "id": "6TjIlBTzLcjD",
        "outputId": "f1414a5a-44c4-446f-f4e0-f837fd60dcd2"
      },
      "outputs": [
        {
          "output_type": "stream",
          "name": "stdout",
          "text": [
            "Submitting your answer. Please wait...\n",
            "Nice work, all your answers look correct!\n"
          ]
        }
      ],
      "source": [
        "# grade part 1\n",
        "from qc_grader.challenges.qgss_2024 import grade_lab2_ex1\n",
        "grade_lab2_ex1(PATH_ANSWER, BACKEND)"
      ]
    },
    {
      "cell_type": "markdown",
      "metadata": {
        "id": "1RwQboCuLcjD"
      },
      "source": [
        "# Part 2: Define Disjoint Layers\n",
        "\n",
        "Next, we need to form two sets of edges which correspond to the different layers we will use in benchmarking, say `LAYER_1_ANSWER` and `LAYER_2_ANSWER`, each with type `list[tuple[int, int]]`. These layers should have the following properties:\n",
        "- Each `LAYER_i_ANSWER` contains edges on distinct sets of qubits, e.g. `(0, 1)` and `(1, 2)` cannot both be in `LAYER_i_ANSWER`, since they both contain `1`.\n",
        "- Every qubit in `PATH_ANSWER` must be contained in at least one of the `LAYER_i`s.\n",
        "\n",
        "Answers to grade:\n",
        "- `LAYER_1_ANSWER: list[tuple[int, int]]`\n",
        "- `LAYER_2_ANSWER: list[tuple[int, int]]`\n",
        "- `PATH_ANSWER: list[int]` (same as before)"
      ]
    },
    {
      "cell_type": "code",
      "execution_count": null,
      "metadata": {
        "id": "YJnBCOTVLcjD"
      },
      "outputs": [],
      "source": [
        "# part 2: define disjoint layers from a 1D chain\n",
        "\n",
        "### Your code goes here ###\n",
        "\n",
        "LAYER_1_ANSWER = [(1,0)]\n",
        "LAYER_2_ANSWER = [(2,1)]"
      ]
    },
    {
      "cell_type": "code",
      "execution_count": null,
      "metadata": {
        "colab": {
          "base_uri": "https://localhost:8080/"
        },
        "id": "aRD-eQmaLcjE",
        "outputId": "dc880aa1-92e9-475a-a2d9-499c2b717709"
      },
      "outputs": [
        {
          "output_type": "stream",
          "name": "stdout",
          "text": [
            "Submitting your answer. Please wait...\n",
            "Nice work, all your answers look correct!\n"
          ]
        }
      ],
      "source": [
        "# grade part 2\n",
        "from qc_grader.challenges.qgss_2024 import grade_lab2_ex2\n",
        "grade_lab2_ex2(LAYER_1_ANSWER, LAYER_2_ANSWER, PATH_ANSWER, BACKEND)"
      ]
    },
    {
      "cell_type": "markdown",
      "metadata": {
        "id": "pYDFgQWiLcjE"
      },
      "source": [
        "# Part 3: Construct Clifford Entangling Layers\n",
        "Now we can use the `LAYER_i` from the previous problem to construct the `QuantumCircuit`s for each layer, which we will use for the EPLG experiments. Now it's your job to construct two circuits, `CIRC_1_ANSWER` and `CIRC_2_ANSWER`.\n",
        "- Each of them should contain a two-qubit Clifford gate for every pair in `LAYER_1_ANSWER` and `LAYER_2_ANSWER` from before.\n",
        "- The two-qubit Clifford gate (`GATE_NAME`) must be one provided by the backend you choose, i.e. it is in `backend.basis_gates`, should be one of `'ecr'`, `'cz'` or `'cx'` depending on your backend.\n",
        "\n",
        "Answers to grade:\n",
        "- `CIRCUIT_1_ANSWER: QuantumCircuit`\n",
        "- `CIRCUIT_2_ANSWER: QuantumCircuit`\n",
        "- `LAYER_1_ANSWER: list[tuple[int, int]]` (same as before)\n",
        "- `LAYER_2_ANSWER: list[tuple[int, int]]` (same as before)\n",
        "- `GATE_NAME: str`"
      ]
    },
    {
      "cell_type": "code",
      "execution_count": null,
      "metadata": {
        "id": "1WYLdebmLcjE"
      },
      "outputs": [],
      "source": [
        "# part 2: define disjoint layers from a 1D chain\n",
        "\n",
        "### Your code goes here ###\n",
        "\n",
        "from qiskit import QuantumCircuit\n",
        "from qiskit.transpiler import CouplingMap, StagedPassManager, PassManager, AnalysisPass, TransformationPass\n",
        "from qiskit.transpiler.preset_passmanagers import generate_preset_pass_manager\n",
        "from qiskit.transpiler.passes.layout.set_layout import SetLayout\n",
        "\n",
        "qc = QuantumCircuit(2)\n",
        "qc.ecr(1,0)\n",
        "pass_manager = generate_preset_pass_manager(optimization_level= 0, backend=BACKEND)\n",
        "\n",
        "#layout_pass_ =SetLayout([])\n",
        "\n",
        "#pass_manager.layout = PassManager(layout_pass_)\n",
        "\n",
        "CIRC_1_ANSWER = pass_manager.run(qc)\n",
        "\n",
        "qc = QuantumCircuit(3)\n",
        "qc.ecr(2,1)\n",
        "pass_manager = generate_preset_pass_manager(optimization_level= 0, backend=BACKEND)\n",
        "\n",
        "CIRC_2_ANSWER = pass_manager.run(qc)\n",
        "\n",
        "GATE_NAME = 'ecr'"
      ]
    },
    {
      "cell_type": "code",
      "execution_count": null,
      "metadata": {
        "colab": {
          "base_uri": "https://localhost:8080/"
        },
        "id": "AiSrst2aLcjE",
        "outputId": "020978a1-ee28-473d-b8bf-3b1ca5220217"
      },
      "outputs": [
        {
          "output_type": "stream",
          "name": "stdout",
          "text": [
            "Submitting your answer. Please wait...\n",
            "Nice work, all your answers look correct!\n",
            "Submitting your answer. Please wait...\n",
            "Nice work, all your answers look correct!\n"
          ]
        }
      ],
      "source": [
        "# grade part 3\n",
        "from qc_grader.challenges.qgss_2024 import grade_lab2_ex3\n",
        "grade_lab2_ex3(CIRC_1_ANSWER, LAYER_1_ANSWER, GATE_NAME, BACKEND)\n",
        "grade_lab2_ex3(CIRC_2_ANSWER, LAYER_2_ANSWER, GATE_NAME, BACKEND)"
      ]
    },
    {
      "cell_type": "markdown",
      "metadata": {
        "id": "-V_BoW3sLcjE"
      },
      "source": [
        "# Part 4: Construct EPLG Experiment Circuits\n",
        "\n",
        "*No grading for this part*\n",
        "\n",
        "In this part, we will use the circuits you constructed to construct the total EPLG circuits.  These circuits interleave the layers from before between layers of random Clifford gates.\n",
        "\n",
        "A few technical asides:\n",
        "1. There is a slight difference between the circuits constructed here and those defined in the EPLG paper. For a circuit of depth $d$ (for even $d$), we randomly sample 1q Clifford gates for $d/2$ layers, and then we invert the circuit for the last $d/2$ layers. This provides a simple implmentation for our purposes, and the details of this difference are beyond the scope of this lab.\n",
        "2. We perform 1q Clifford sampling by taking advantage of the fact that for backends whose single qubit gates are composed of $R_z(\\theta_1) \\sqrt{X} R_z(\\theta_2) \\sqrt{X} R_z(\\theta_3)$, when $\\theta_i \\in \\{ \\pm \\pi / 2, \\pm \\pi, 0 \\}$, the resulting single qubit gate is a Clifford. This allows us to randomly sample 1q Clifford gates simply by changing parameters."
      ]
    },
    {
      "cell_type": "code",
      "execution_count": null,
      "metadata": {
        "id": "SDEHjRGVLcjE"
      },
      "outputs": [],
      "source": [
        "from qiskit.circuit import Parameter\n",
        "from qiskit.transpiler.preset_passmanagers import generate_preset_pass_manager\n",
        "\n",
        "def eplg_circuit(num_qubits: int, depth: int, layer: QuantumCircuit, qubits: tuple[int, ...]) -> QuantumCircuit:\n",
        "    if depth % 2 != 0:\n",
        "        raise ValueError(f\"The depth must be even, got {depth}\")\n",
        "\n",
        "    def parameters():\n",
        "        _depth = 0\n",
        "        while True:\n",
        "            for zi in range(3):\n",
        "                for q in range(num_qubits):\n",
        "                    yield Parameter(f\"d{_depth}_q{q}_z{zi}\")\n",
        "            _depth += 1\n",
        "    _parameters = parameters()\n",
        "\n",
        "    circ = QuantumCircuit(num_qubits)\n",
        "\n",
        "    def _1q_layer():\n",
        "        for j in range(3):\n",
        "            for k in qubits:\n",
        "                circ.rz(next(_parameters), k)\n",
        "            if j == 2:\n",
        "                continue\n",
        "            circ.sx(qubits)\n",
        "\n",
        "    for _depth in range(depth // 2):\n",
        "        circ.barrier(qubits)\n",
        "        _1q_layer()\n",
        "        circ.barrier(qubits)\n",
        "        circ.compose(layer, inplace=True)\n",
        "    circ.barrier(qubits)\n",
        "    _1q_layer()\n",
        "    circ.barrier(qubits)\n",
        "\n",
        "    # Assuming mirroring is fine\n",
        "    circ = circ.compose(circ.inverse())\n",
        "\n",
        "    circ.measure_active()\n",
        "\n",
        "    pm = generate_preset_pass_manager(basis_gates=[\"ecr\", \"sx\", \"rz\"], optimization_level=0)\n",
        "    circ = pm.run(circ)\n",
        "\n",
        "    circ.metadata[\"layer_depth\"] = depth\n",
        "    circ.metadata[\"qubits\"] = qubits\n",
        "    circ.metadata[\"num_qubits\"] = num_qubits\n",
        "\n",
        "    return circ"
      ]
    },
    {
      "cell_type": "markdown",
      "metadata": {
        "id": "D3EU-5_ALcjE"
      },
      "source": [
        "Here are examples of the EPLG circuits for depth $d=4$. In a later part we will use this function to construct circuits for varying $d$."
      ]
    },
    {
      "cell_type": "code",
      "execution_count": null,
      "metadata": {
        "id": "XsSYsfSFLcjE"
      },
      "outputs": [],
      "source": [
        "example_circuit_1 = eplg_circuit(\n",
        "    num_qubits=BACKEND.num_qubits,\n",
        "    depth=4,\n",
        "    layer=CIRC_1_ANSWER,\n",
        "    qubits=PATH_ANSWER,\n",
        ")"
      ]
    },
    {
      "cell_type": "code",
      "execution_count": null,
      "metadata": {
        "id": "zlgRhBZjLcjE"
      },
      "outputs": [],
      "source": [
        "example_circuit_2 = eplg_circuit(\n",
        "    num_qubits=BACKEND.num_qubits,\n",
        "    depth=4,\n",
        "    layer=CIRC_2_ANSWER,\n",
        "    qubits=PATH_ANSWER,\n",
        ")"
      ]
    },
    {
      "cell_type": "markdown",
      "metadata": {
        "id": "Dy57k9C3LcjF"
      },
      "source": [
        "# Part 5: Construct `BindingsArray`s\n",
        "\n",
        "*No grading for this part*\n",
        "\n",
        "In the previous section, the circuits we constructed are parameterized such that if we sample with the appropriate values, they will always produce random single-qubit Clifford gates.\n",
        "\n",
        "For our EPLG calculations, we need to sample lots of sets of parameters. This is expressed conveniently with the `BindingsArray`. The `BindingsArray` can be thought of as an array whose elements correspond to sets of parameters and their bound values.\n",
        "\n",
        "For example, if we have a circuit with $k$ parameters, and we need to sample all of the parameters $m$ times, the `BindingsArray` that accomplishes this would have shape `(m,)`. Similarly, if we want to have a more complicated set of bindings to perform, our `BindingsArray` can have arbitrary shape, and supports `numpy`-like reshaping operations, slicing, etc.\n",
        "\n",
        "In this section, we will construct a function which accepts a `QuantumCircuit`, the number of samples we want to perform, and a `numpy` RNG to perform the single-qubit Clifford sampling. We will use this later on to produce our `EstimatorPub`s."
      ]
    },
    {
      "cell_type": "code",
      "execution_count": null,
      "metadata": {
        "id": "VtdEmJlfLcjF"
      },
      "outputs": [],
      "source": [
        "import numpy as np\n",
        "\n",
        "from qiskit.primitives.containers.bindings_array import BindingsArray\n",
        "\n",
        "def get_clifford_rz_samples(\n",
        "    circ: QuantumCircuit,\n",
        "    num_samples: int,\n",
        "    rng: np.random.Generator,\n",
        ") -> BindingsArray:\n",
        "    \"\"\"Uniformly sample the Rz parameters in a `QuantumCircuit`\n",
        "    from -pi, -pi/2, 0, +pi/2, +pi.\n",
        "    \"\"\"\n",
        "\n",
        "    _allowed_ops = {'rz', 'sx', 'sxdg', 'ecr', 'barrier', 'measure'}\n",
        "    if (_other := set(circ.count_ops().keys()) - _allowed_ops):\n",
        "        raise ValueError(f\"Circuit must only contain ops: {_allowed_ops}, got {_other}\")\n",
        "\n",
        "    sampled_pars = rng.integers(-2, 3, size=(num_samples, len(circ.parameters))) * (np.pi/2)\n",
        "\n",
        "    return BindingsArray({\n",
        "        tuple(circ.parameters): sampled_pars\n",
        "    })"
      ]
    },
    {
      "cell_type": "markdown",
      "metadata": {
        "id": "mHtm2VVYLcjF"
      },
      "source": [
        "As an example, we can take each of our circuits and produce bindings"
      ]
    },
    {
      "cell_type": "code",
      "execution_count": null,
      "metadata": {
        "id": "iu8iBex0LcjF"
      },
      "outputs": [],
      "source": [
        "num_samples = 10\n",
        "ARRAY_1_ANSWER = get_clifford_rz_samples(\n",
        "    circ=example_circuit_1,\n",
        "    num_samples=num_samples,\n",
        "    rng=np.random.default_rng(42))"
      ]
    },
    {
      "cell_type": "code",
      "execution_count": null,
      "metadata": {
        "colab": {
          "base_uri": "https://localhost:8080/"
        },
        "id": "CxSnBA7lLcjF",
        "outputId": "0f18c3a6-3cde-4da9-ed7f-650f6fc1c534"
      },
      "outputs": [
        {
          "output_type": "stream",
          "name": "stdout",
          "text": [
            "Submitting your answer. Please wait...\n",
            "Nice work, all your answers look correct! \n",
            " Notice that the shape of the BindingsArray is [10], and there are {num_parameters} parameters.\n"
          ]
        }
      ],
      "source": [
        "# grade part 4\n",
        "from qc_grader.challenges.qgss_2024 import grade_lab2_ex4\n",
        "grade_lab2_ex4(ARRAY_1_ANSWER, example_circuit_1, num_samples)"
      ]
    },
    {
      "cell_type": "markdown",
      "metadata": {
        "id": "UKAW2lYiLcjF"
      },
      "source": [
        "Notice that despite the large number of parameters, the `BindingsArray` has shape `(10,)`, meaning it has `10` entries. As we discussed before, this is because its elements correspond to sets of parameters and their bound values"
      ]
    },
    {
      "cell_type": "markdown",
      "metadata": {
        "id": "2J0HAt-ULcjF"
      },
      "source": [
        "# Part 6: Make `ObservablesArray`s\n",
        "\n",
        "*No grading for this part*\n",
        "\n",
        "The only remaining thing that we need to produce an `EstimatorPub` is an `ObservablesArray`. The `ObservablesArray` can be seen as a array whose elements are observables. In our case, they will be `SparsePauliOp`s.\n",
        "\n",
        "In order to calculate the EPLG and LF, we need to calculate the expectation values $\\text{Tr}\\left( \\rho \\ket{00}_{i,j}\\bra{00}_{i,j}\\right)$ and $\\text{Tr}\\left( \\rho \\ket{0}_{i}\\bra{0}_{i}\\right)$ for qubits $i$, $j$ depending on the layers we chose before.\n",
        "\n",
        "Alternatively we could do this using the `SamplerV2` rather than the `EstimatorV2`. This would come with the tradeoff of having more post-processing that we have to do, but we can have the `EstimatorV2` do this for us by constructing the projectors $\\ket{0}_{i}\\bra{0}_{i}$ and $\\ket{00}_{i,j}\\bra{00}_{i,j}$ and using them as observables.\n",
        "\n",
        "This means that the expectation values we get back from the `EstimatorV2` will be the process fidelities that we're interested in!"
      ]
    },
    {
      "cell_type": "code",
      "execution_count": null,
      "metadata": {
        "id": "K_mMp6UYLcjF"
      },
      "outputs": [],
      "source": [
        "import numpy as np\n",
        "from itertools import product\n",
        "from qiskit.quantum_info import SparsePauliOp\n",
        "\n",
        "def process_fidelity_observable(num_qubits: int, qubits: tuple[int, ...]) -> SparsePauliOp:\n",
        "    \"\"\"Produces the all 0 projector on `qubits` tensored with the identity on all other qubits\"\"\"\n",
        "    pauli_strings = []\n",
        "\n",
        "    for p_sub_str in product([\"I\", \"Z\"], repeat=len(qubits)):\n",
        "        p_str = [\"I\"] * num_qubits\n",
        "        for qi, pi in zip(qubits, p_sub_str):\n",
        "            p_str[qi] = pi\n",
        "        pauli_strings.append(\"\".join(p_str[::-1]))\n",
        "\n",
        "    return SparsePauliOp(pauli_strings, np.ones(len(pauli_strings)) / 2**len(qubits))"
      ]
    },
    {
      "cell_type": "markdown",
      "metadata": {
        "id": "H__Nn8KdLcjF"
      },
      "source": [
        "Now we need to produce `ObservablesArray`s which correspond to the projectors we are interested in, i.e. the process fidelities for subsets of our path."
      ]
    },
    {
      "cell_type": "code",
      "execution_count": null,
      "metadata": {
        "id": "ATWfukdBLcjF"
      },
      "outputs": [],
      "source": [
        "from qiskit.primitives.containers.observables_array import ObservablesArray\n",
        "\n",
        "LAYER_1_SUBSYSTEMS = LAYER_1_ANSWER + [(q,) for q in set(PATH_ANSWER) - set(item for sublist in LAYER_1_ANSWER for item in sublist)]\n",
        "LAYER_2_SUBSYSTEMS = LAYER_2_ANSWER + [(q,) for q in set(PATH_ANSWER) - set(item for sublist in LAYER_2_ANSWER for item in sublist)]\n",
        "\n",
        "LAYER_1_OBSERVABLES = ObservablesArray([process_fidelity_observable(BACKEND.num_qubits, qubits) for qubits in LAYER_1_SUBSYSTEMS])\n",
        "LAYER_2_OBSERVABLES = ObservablesArray([process_fidelity_observable(BACKEND.num_qubits, qubits) for qubits in LAYER_2_SUBSYSTEMS])"
      ]
    },
    {
      "cell_type": "markdown",
      "metadata": {
        "id": "CqamvD2CLcjF"
      },
      "source": [
        "Note that the `LAYER_i_OBSERVABLES` have a shape which corresponds to the number of subsystems in each layer.\n",
        "\n",
        "Since all of the observables in our `ObservablesArray`s are diagonal in the computational basis (i.e. they only consist of Paulis which have $I$ and $Z$ terms), the `EstimatorV2` does not need to compute expectation values in additional bases."
      ]
    },
    {
      "cell_type": "code",
      "execution_count": null,
      "metadata": {
        "colab": {
          "base_uri": "https://localhost:8080/"
        },
        "id": "VPsWNffZLcjF",
        "outputId": "16219037-48cc-4ca0-86aa-513e54f16d1a"
      },
      "outputs": [
        {
          "output_type": "execute_result",
          "data": {
            "text/plain": [
              "True"
            ]
          },
          "metadata": {},
          "execution_count": 21
        }
      ],
      "source": [
        "LAYER_1_OBSERVABLES.shape == (len(LAYER_1_SUBSYSTEMS),)"
      ]
    },
    {
      "cell_type": "code",
      "execution_count": null,
      "metadata": {
        "colab": {
          "base_uri": "https://localhost:8080/"
        },
        "id": "80jZuIS0LcjF",
        "outputId": "d1607757-7b8c-47db-e4fa-70c98ae84478"
      },
      "outputs": [
        {
          "output_type": "execute_result",
          "data": {
            "text/plain": [
              "True"
            ]
          },
          "metadata": {},
          "execution_count": 22
        }
      ],
      "source": [
        "LAYER_2_OBSERVABLES.shape == (len(LAYER_2_SUBSYSTEMS),)"
      ]
    },
    {
      "cell_type": "markdown",
      "metadata": {
        "id": "0_K4NP1DLcjG"
      },
      "source": [
        "# Part 7: Make Sequence of `EstimatorPub`s\n",
        "\n",
        "*No grading for this part*\n",
        "\n",
        "Finally, we can construct our `EstimatorPub`s. The [`EstimatorPub`](https://github.com/Qiskit/qiskit/blob/main/qiskit/primitives/containers/estimator_pub.py#L36) is can be seen as a tuple consisting of a `QuantumCircuit`, an `ObservablesArray`, and a `BindingsArray` (and optionally a precision). Given an `EstimatorPub` with a given shape, the `EstimatorV2` will return arrays of expectation values (and their standard deviations) whose shape is the same as the input `EstimatorPub`.\n",
        "\n",
        "In order to construct the `EstimatorPub`s needed to do the EPLG calculations, we need `EstimatorPub`s which vary in\n",
        "- the input circuit (i.e. one for each disjoint set of edges) (in our case `2`)\n",
        "- the depth of the circuit (we have chosen `6` depths here by default).\n",
        "\n",
        "Therefore, we will have $2 \\times 6 = 12$ `EstimatorPub`s total. Within each of these, we have `10` twirling samples, and `k` fidelities (which depends on the path you chose, this should roughly be half of the length of the path). So we have $12$ `EstimatorPub`s, each with $10 k$ elements.\n",
        "\n",
        "Therefore, the total number of expectation values that we *expect* to receive is $120k$. For a length $30$ chain, $k = 15$, meaning we should roughly $1,800$ expectation values back overall (depending on the edges of the chain)."
      ]
    },
    {
      "cell_type": "code",
      "execution_count": null,
      "metadata": {
        "id": "QAlv_vNoLcjG"
      },
      "outputs": [],
      "source": [
        "rng = np.random.default_rng(42)\n",
        "num_samples = 10\n",
        "depths = [2, 4, 8, 16, 32, 64]"
      ]
    },
    {
      "cell_type": "code",
      "execution_count": null,
      "metadata": {
        "id": "zzmRyPCPLcjG"
      },
      "outputs": [],
      "source": [
        "from qiskit.primitives.containers.estimator_pub import EstimatorPub\n",
        "\n",
        "estimator_pubs = []\n",
        "for depth in depths:\n",
        "    for layer, name, observables in [(CIRC_1_ANSWER, \"circ_1\", LAYER_1_OBSERVABLES), (CIRC_2_ANSWER, \"circ_2\", LAYER_2_OBSERVABLES)]:\n",
        "        circ = eplg_circuit(\n",
        "            num_qubits=BACKEND.num_qubits,\n",
        "            depth=depth,\n",
        "            layer=layer,\n",
        "            qubits=PATH_ANSWER,\n",
        "        )\n",
        "        circ.metadata[\"layer_idx\"] = name\n",
        "        bindings_array = get_clifford_rz_samples(\n",
        "            circ=circ,\n",
        "            num_samples=num_samples,\n",
        "            rng=rng,\n",
        "        )\n",
        "\n",
        "        # We need to reshape the `ObservablesArray`s and `BindingsArray`s so they\n",
        "        # can be broadcasted.\n",
        "        # https://numpy.org/doc/stable/user/basics.broadcasting.html#basics-broadcasting\n",
        "        estimator_pubs.append(EstimatorPub(\n",
        "            circuit=circ,\n",
        "            observables=observables.reshape((*observables.shape, 1)),\n",
        "            parameter_values=bindings_array.reshape((1, *bindings_array.shape)),\n",
        "        ))"
      ]
    },
    {
      "cell_type": "markdown",
      "metadata": {
        "id": "AV97mWkTLcjG"
      },
      "source": [
        "As a sanity check, we can count the number of expectation values we should obtain overall from the shape of the `EstimatorPub`s."
      ]
    },
    {
      "cell_type": "code",
      "execution_count": null,
      "metadata": {
        "colab": {
          "base_uri": "https://localhost:8080/"
        },
        "id": "J2k6iwNsLcjG",
        "outputId": "47c98b6b-28db-4f9a-d7a4-6d72d43879cf"
      },
      "outputs": [
        {
          "output_type": "execute_result",
          "data": {
            "text/plain": [
              "240"
            ]
          },
          "metadata": {},
          "execution_count": 25
        }
      ],
      "source": [
        "num_evs_expected = 0\n",
        "for pub in estimator_pubs:\n",
        "    num_evs_expected += np.prod(estimator_pubs[0].shape)\n",
        "num_evs_expected"
      ]
    },
    {
      "cell_type": "markdown",
      "metadata": {
        "id": "geI9r6dvLcjG"
      },
      "source": [
        "# Part 8: Submit to Runtime\n",
        "\n",
        "*No grading for this part*\n",
        "\n",
        "Finally, we are ready to hand off our `EstimatorPub`s to the `EstimatorV2`.\n",
        "\n",
        "Since the calculation of EPLG is SPAM-robust, we should turn off measurement mitigation, which is enabled by default."
      ]
    },
    {
      "cell_type": "code",
      "execution_count": null,
      "metadata": {
        "id": "UnrepNyeLcjG"
      },
      "outputs": [],
      "source": [
        "from qiskit_ibm_runtime import EstimatorV2\n",
        "estimator = EstimatorV2(backend=BACKEND)\n",
        "estimator.options.resilience.measure_mitigation = False"
      ]
    },
    {
      "cell_type": "markdown",
      "metadata": {
        "id": "O6_K3TF2LcjK"
      },
      "source": [
        "Now we can run the `EstimatorV2` with our `EstimatorPub`s and wait for the result.\n",
        "\n",
        "With the default settings in this notebook, this should take no more than 10 minutes to complete (not accounting for queue time)."
      ]
    },
    {
      "cell_type": "code",
      "execution_count": null,
      "metadata": {
        "id": "HDFkVX2LLcjK"
      },
      "outputs": [],
      "source": [
        "estimator_job = estimator.run(estimator_pubs)"
      ]
    },
    {
      "cell_type": "markdown",
      "metadata": {
        "id": "Xm6H3TxLLcjK"
      },
      "source": [
        "And we can get the `PrimitiveResult` with"
      ]
    },
    {
      "cell_type": "code",
      "execution_count": null,
      "metadata": {
        "colab": {
          "base_uri": "https://localhost:8080/"
        },
        "id": "IR7PsLf9LcjK",
        "outputId": "d8c05606-69f8-4cfb-edef-b9d14aaa4c0a"
      },
      "outputs": [
        {
          "output_type": "execute_result",
          "data": {
            "text/plain": [
              "PrimitiveResult([PubResult(data=DataBin(evs=np.ndarray(<shape=(2, 10), dtype=float64>), stds=np.ndarray(<shape=(2, 10), dtype=float64>), ensemble_standard_error=np.ndarray(<shape=(2, 10), dtype=float64>), shape=(2, 10)), metadata={'shots': 4096, 'target_precision': 0.015625, 'circuit_metadata': {'layer_depth': 2, 'qubits': [0, 1, 2], 'num_qubits': 127, 'layer_idx': 'circ_1'}, 'num_randomizations': 32}), PubResult(data=DataBin(evs=np.ndarray(<shape=(2, 10), dtype=float64>), stds=np.ndarray(<shape=(2, 10), dtype=float64>), ensemble_standard_error=np.ndarray(<shape=(2, 10), dtype=float64>), shape=(2, 10)), metadata={'shots': 4096, 'target_precision': 0.015625, 'circuit_metadata': {'layer_depth': 2, 'qubits': [0, 1, 2], 'num_qubits': 127, 'layer_idx': 'circ_2'}, 'num_randomizations': 32}), PubResult(data=DataBin(evs=np.ndarray(<shape=(2, 10), dtype=float64>), stds=np.ndarray(<shape=(2, 10), dtype=float64>), ensemble_standard_error=np.ndarray(<shape=(2, 10), dtype=float64>), shape=(2, 10)), metadata={'shots': 4096, 'target_precision': 0.015625, 'circuit_metadata': {'layer_depth': 4, 'qubits': [0, 1, 2], 'num_qubits': 127, 'layer_idx': 'circ_1'}, 'num_randomizations': 32}), PubResult(data=DataBin(evs=np.ndarray(<shape=(2, 10), dtype=float64>), stds=np.ndarray(<shape=(2, 10), dtype=float64>), ensemble_standard_error=np.ndarray(<shape=(2, 10), dtype=float64>), shape=(2, 10)), metadata={'shots': 4096, 'target_precision': 0.015625, 'circuit_metadata': {'layer_depth': 4, 'qubits': [0, 1, 2], 'num_qubits': 127, 'layer_idx': 'circ_2'}, 'num_randomizations': 32}), PubResult(data=DataBin(evs=np.ndarray(<shape=(2, 10), dtype=float64>), stds=np.ndarray(<shape=(2, 10), dtype=float64>), ensemble_standard_error=np.ndarray(<shape=(2, 10), dtype=float64>), shape=(2, 10)), metadata={'shots': 4096, 'target_precision': 0.015625, 'circuit_metadata': {'layer_depth': 8, 'qubits': [0, 1, 2], 'num_qubits': 127, 'layer_idx': 'circ_1'}, 'num_randomizations': 32}), PubResult(data=DataBin(evs=np.ndarray(<shape=(2, 10), dtype=float64>), stds=np.ndarray(<shape=(2, 10), dtype=float64>), ensemble_standard_error=np.ndarray(<shape=(2, 10), dtype=float64>), shape=(2, 10)), metadata={'shots': 4096, 'target_precision': 0.015625, 'circuit_metadata': {'layer_depth': 8, 'qubits': [0, 1, 2], 'num_qubits': 127, 'layer_idx': 'circ_2'}, 'num_randomizations': 32}), PubResult(data=DataBin(evs=np.ndarray(<shape=(2, 10), dtype=float64>), stds=np.ndarray(<shape=(2, 10), dtype=float64>), ensemble_standard_error=np.ndarray(<shape=(2, 10), dtype=float64>), shape=(2, 10)), metadata={'shots': 4096, 'target_precision': 0.015625, 'circuit_metadata': {'layer_depth': 16, 'qubits': [0, 1, 2], 'num_qubits': 127, 'layer_idx': 'circ_1'}, 'num_randomizations': 32}), PubResult(data=DataBin(evs=np.ndarray(<shape=(2, 10), dtype=float64>), stds=np.ndarray(<shape=(2, 10), dtype=float64>), ensemble_standard_error=np.ndarray(<shape=(2, 10), dtype=float64>), shape=(2, 10)), metadata={'shots': 4096, 'target_precision': 0.015625, 'circuit_metadata': {'layer_depth': 16, 'qubits': [0, 1, 2], 'num_qubits': 127, 'layer_idx': 'circ_2'}, 'num_randomizations': 32}), PubResult(data=DataBin(evs=np.ndarray(<shape=(2, 10), dtype=float64>), stds=np.ndarray(<shape=(2, 10), dtype=float64>), ensemble_standard_error=np.ndarray(<shape=(2, 10), dtype=float64>), shape=(2, 10)), metadata={'shots': 4096, 'target_precision': 0.015625, 'circuit_metadata': {'layer_depth': 32, 'qubits': [0, 1, 2], 'num_qubits': 127, 'layer_idx': 'circ_1'}, 'num_randomizations': 32}), PubResult(data=DataBin(evs=np.ndarray(<shape=(2, 10), dtype=float64>), stds=np.ndarray(<shape=(2, 10), dtype=float64>), ensemble_standard_error=np.ndarray(<shape=(2, 10), dtype=float64>), shape=(2, 10)), metadata={'shots': 4096, 'target_precision': 0.015625, 'circuit_metadata': {'layer_depth': 32, 'qubits': [0, 1, 2], 'num_qubits': 127, 'layer_idx': 'circ_2'}, 'num_randomizations': 32}), PubResult(data=DataBin(evs=np.ndarray(<shape=(2, 10), dtype=float64>), stds=np.ndarray(<shape=(2, 10), dtype=float64>), ensemble_standard_error=np.ndarray(<shape=(2, 10), dtype=float64>), shape=(2, 10)), metadata={'shots': 4096, 'target_precision': 0.015625, 'circuit_metadata': {'layer_depth': 64, 'qubits': [0, 1, 2], 'num_qubits': 127, 'layer_idx': 'circ_1'}, 'num_randomizations': 32}), PubResult(data=DataBin(evs=np.ndarray(<shape=(2, 10), dtype=float64>), stds=np.ndarray(<shape=(2, 10), dtype=float64>), ensemble_standard_error=np.ndarray(<shape=(2, 10), dtype=float64>), shape=(2, 10)), metadata={'shots': 4096, 'target_precision': 0.015625, 'circuit_metadata': {'layer_depth': 64, 'qubits': [0, 1, 2], 'num_qubits': 127, 'layer_idx': 'circ_2'}, 'num_randomizations': 32})], metadata={'dynamical_decoupling': {'enable': False, 'sequence_type': 'XX', 'extra_slack_distribution': 'middle', 'scheduling_method': 'alap'}, 'twirling': {'enable_gates': False, 'enable_measure': True, 'num_randomizations': 'auto', 'shots_per_randomization': 'auto', 'interleave_randomizations': True, 'strategy': 'active-accum'}, 'resilience': {'measure_mitigation': False, 'zne_mitigation': False, 'pec_mitigation': False}, 'version': 2})"
            ]
          },
          "metadata": {},
          "execution_count": 28
        }
      ],
      "source": [
        "primitive_result = estimator_job.result()\n",
        "\n",
        "primitive_result"
      ]
    },
    {
      "cell_type": "markdown",
      "metadata": {
        "id": "_KRTqIeaLcjL"
      },
      "source": [
        "# Part 9: Data Analysis"
      ]
    },
    {
      "cell_type": "markdown",
      "metadata": {
        "id": "NviStW3jLcjL"
      },
      "source": [
        "The final step is to perform the fittings of the decay curves to perform the EPLG analysis.\n",
        "\n",
        "Let's first grab some of the relevant data from the `PrimitiveResult`."
      ]
    },
    {
      "cell_type": "code",
      "execution_count": null,
      "metadata": {
        "id": "1z5EY8jgLcjL"
      },
      "outputs": [],
      "source": [
        "data_out = {\n",
        "    \"evs\": [pub_res.data.evs for pub_res in primitive_result],\n",
        "    \"stds\": [pub_res.data.stds for pub_res in primitive_result],\n",
        "    \"result_metadata\": primitive_result.metadata,\n",
        "    \"pub_metadata\": [pub_res.metadata for pub_res in primitive_result]\n",
        "}"
      ]
    },
    {
      "cell_type": "markdown",
      "metadata": {
        "id": "8rARVo3ILcjL"
      },
      "source": [
        "Now we can rearrange the expectation values into an array in a convenient form, as well as average over the randomized Cliffords."
      ]
    },
    {
      "cell_type": "code",
      "execution_count": null,
      "metadata": {
        "id": "Wy96_DqwLcjL"
      },
      "outputs": [],
      "source": [
        "# evs_at_depth is a\n",
        "evs_at_depth = np.zeros((len(depths), data_out['evs'][0].shape[0]*2))\n",
        "for i in range(len(depths)):\n",
        "    layer1_evs = np.average(data_out['evs'][2*i], axis=-1)\n",
        "    layer2_evs = np.average(data_out['evs'][2*i+1], axis=-1)\n",
        "    evs_at_depth[i,:] = np.array([item for pair in zip(layer1_evs, layer2_evs) for item in pair])"
      ]
    },
    {
      "cell_type": "markdown",
      "metadata": {
        "id": "xBUxo28-LcjL"
      },
      "source": [
        "The resulting shape has two axes, one for the depth (axis `0`, with shape `6`) and one for the number of subsystem fidelities (axis `1`, dependent on your path)."
      ]
    },
    {
      "cell_type": "code",
      "execution_count": null,
      "metadata": {
        "colab": {
          "base_uri": "https://localhost:8080/"
        },
        "id": "A8QXPuLuLcjL",
        "outputId": "9b0d0249-6f8c-4c3c-c88e-fe29a9e87857"
      },
      "outputs": [
        {
          "output_type": "execute_result",
          "data": {
            "text/plain": [
              "(6, 4)"
            ]
          },
          "metadata": {},
          "execution_count": 31
        }
      ],
      "source": [
        "evs_at_depth.shape"
      ]
    },
    {
      "cell_type": "markdown",
      "metadata": {
        "id": "_PkPRo2jLcjL"
      },
      "source": [
        "Now we can plot the decay curves for the different subsystems."
      ]
    },
    {
      "cell_type": "code",
      "execution_count": null,
      "metadata": {
        "id": "bi9zIYj_LcjL"
      },
      "outputs": [],
      "source": [
        "import matplotlib.pyplot as plt"
      ]
    },
    {
      "cell_type": "code",
      "execution_count": null,
      "metadata": {
        "colab": {
          "base_uri": "https://localhost:8080/",
          "height": 449
        },
        "id": "MYihm-caLcjL",
        "outputId": "d7c5cef3-b076-4352-e726-4e7b7fcdf25f"
      },
      "outputs": [
        {
          "output_type": "display_data",
          "data": {
            "text/plain": [
              "<Figure size 640x480 with 1 Axes>"
            ],
            "image/png": "[encoded data removed]"
          },
          "metadata": {}
        }
      ],
      "source": [
        "ax = plt.gca()\n",
        "for i in range(evs_at_depth.shape[1]):\n",
        "    ax.plot(depths, evs_at_depth[:,i])\n",
        "\n",
        "ax.set_ylabel(\"Ground State Population\")\n",
        "ax.set_xlabel(\"Depth\")\n",
        "ax.grid()"
      ]
    },
    {
      "cell_type": "markdown",
      "metadata": {
        "id": "XOHrPz95LcjL"
      },
      "source": [
        "Now we need to fit these to exponential decays, we can do this with the `lmfit` python package. The exponential decay has the following form:\n",
        "$$\n",
        "A\\alpha^L+B\n",
        "$$\n",
        "where $\\alpha$ is the error rate, $L$ denotes the number of cycles (depth) in the EPLG circuits, parameters $A$ and $B$ are the fitting parameters to capture the SPAM (state preparation and measurement) errors."
      ]
    },
    {
      "cell_type": "code",
      "execution_count": null,
      "metadata": {
        "id": "XZM0o3vaLcjL"
      },
      "outputs": [],
      "source": [
        "import lmfit\n",
        "model= lmfit.models.ExpressionModel(\n",
        "            expr=\"a * alpha ** x + b\",\n",
        "            name=\"rb_decay\")\n",
        "\n",
        "params_dict = {\n",
        "    'a': {'value': 1.0,\n",
        "            'min': -1.0,\n",
        "            'max': 1.0,\n",
        "            },\n",
        "    'b': {'value': 0.0,\n",
        "            'min': -1.0,\n",
        "            'max': 1.0,\n",
        "            },\n",
        "    'alpha': {'value': 0.9,\n",
        "              'min': 0.0,\n",
        "              'max': 1.0\n",
        "              },\n",
        "}\n",
        "p = model.make_params(**params_dict)"
      ]
    },
    {
      "cell_type": "code",
      "execution_count": null,
      "metadata": {
        "id": "QqOObzk8LcjL"
      },
      "outputs": [],
      "source": [
        "alphas = []\n",
        "for i in range(evs_at_depth.shape[-1]):\n",
        "    result = model.fit(evs_at_depth[:,i], p, x=depths)\n",
        "    alphas.append(result.params['alpha'].value)"
      ]
    },
    {
      "cell_type": "markdown",
      "metadata": {
        "id": "1yGjtmkALcjM"
      },
      "source": [
        "Now we can finally use the expressions in the EPLG paper to compute process fidelities.\n",
        "$\\alpha$ is related to the average gate error vis\n",
        "$$\n",
        "\\epsilon = \\frac{D-1}{D} (1-\\alpha)\n",
        "$$\n",
        "where $D$ denotes the the dimension of the Hilbert space, e.g., $D=4$ for two-qubit processes. The average gate fidelity is $F_g = 1-\\epsilon$.\n",
        "The process fidelity is related to the average gate fidelity via\n",
        "$$\n",
        "F_g=\\frac{DF_p+1}{D+1}\n",
        "$$"
      ]
    },
    {
      "cell_type": "code",
      "execution_count": null,
      "metadata": {
        "id": "ARzV18J-LcjM"
      },
      "outputs": [],
      "source": [
        "def cal_process_fid(alpha, D=4):\n",
        "    epsilon = (D-1) * (1 - alpha)/D\n",
        "    Fg = 1 - epsilon\n",
        "    Fp = ((D+1) * Fg -1)/D\n",
        "    return Fp"
      ]
    },
    {
      "cell_type": "markdown",
      "metadata": {
        "id": "OBvGH1HLLcjM"
      },
      "source": [
        "And with a little data-wrangling in `pandas` we can apply this to our data."
      ]
    },
    {
      "cell_type": "code",
      "execution_count": null,
      "metadata": {
        "colab": {
          "base_uri": "https://localhost:8080/",
          "height": 125
        },
        "id": "A-imTd9dLcjM",
        "outputId": "08d77343-8d27-4a1a-8cd3-17efbc526614"
      },
      "outputs": [
        {
          "output_type": "execute_result",
          "data": {
            "text/plain": [
              "  qubit pair     alpha  process fidelity\n",
              "0     (1, 0)  0.988774          0.989476\n",
              "1     (2, 1)  0.985891          0.986773"
            ],
            "text/html": [
              "\n",
              "  <div id=\"df-5d60eac8-7a0d-4836-b135-a0821cb49826\" class=\"colab-df-container\">\n",
              "    <div>\n",
              "<style scoped>\n",
              "    .dataframe tbody tr th:only-of-type {\n",
              "        vertical-align: middle;\n",
              "    }\n",
              "\n",
              "    .dataframe tbody tr th {\n",
              "        vertical-align: top;\n",
              "    }\n",
              "\n",
              "    .dataframe thead th {\n",
              "        text-align: right;\n",
              "    }\n",
              "</style>\n",
              "<table border=\"1\" class=\"dataframe\">\n",
              "  <thead>\n",
              "    <tr style=\"text-align: right;\">\n",
              "      <th></th>\n",
              "      <th>qubit pair</th>\n",
              "      <th>alpha</th>\n",
              "      <th>process fidelity</th>\n",
              "    </tr>\n",
              "  </thead>\n",
              "  <tbody>\n",
              "    <tr>\n",
              "      <th>0</th>\n",
              "      <td>(1, 0)</td>\n",
              "      <td>0.988774</td>\n",
              "      <td>0.989476</td>\n",
              "    </tr>\n",
              "    <tr>\n",
              "      <th>1</th>\n",
              "      <td>(2, 1)</td>\n",
              "      <td>0.985891</td>\n",
              "      <td>0.986773</td>\n",
              "    </tr>\n",
              "  </tbody>\n",
              "</table>\n",
              "</div>\n",
              "    <div class=\"colab-df-buttons\">\n",
              "\n",
              "  <div class=\"colab-df-container\">\n",
              "    <button class=\"colab-df-convert\" onclick=\"convertToInteractive('df-5d60eac8-7a0d-4836-b135-a0821cb49826')\"\n",
              "            title=\"Convert this dataframe to an interactive table.\"\n",
              "            style=\"display:none;\">\n",
              "\n",
              "  <svg xmlns=\"http://www.w3.org/2000/svg\" height=\"24px\" viewBox=\"0 -960 960 960\">\n",
              "    <path d=\"M120-120v-720h720v720H120Zm60-500h600v-160H180v160Zm220 220h160v-160H400v160Zm0 220h160v-160H400v160ZM180-400h160v-160H180v160Zm440 0h160v-160H620v160ZM180-180h160v-160H180v160Zm440 0h160v-160H620v160Z\"/>\n",
              "  </svg>\n",
              "    </button>\n",
              "\n",
              "  <style>\n",
              "    .colab-df-container {\n",
              "      display:flex;\n",
              "      gap: 12px;\n",
              "    }\n",
              "\n",
              "    .colab-df-convert {\n",
              "      background-color: #E8F0FE;\n",
              "      border: none;\n",
              "      border-radius: 50%;\n",
              "      cursor: pointer;\n",
              "      display: none;\n",
              "      fill: #1967D2;\n",
              "      height: 32px;\n",
              "      padding: 0 0 0 0;\n",
              "      width: 32px;\n",
              "    }\n",
              "\n",
              "    .colab-df-convert:hover {\n",
              "      background-color: #E2EBFA;\n",
              "      box-shadow: 0px 1px 2px rgba(60, 64, 67, 0.3), 0px 1px 3px 1px rgba(60, 64, 67, 0.15);\n",
              "      fill: #174EA6;\n",
              "    }\n",
              "\n",
              "    .colab-df-buttons div {\n",
              "      margin-bottom: 4px;\n",
              "    }\n",
              "\n",
              "    [theme=dark] .colab-df-convert {\n",
              "      background-color: #3B4455;\n",
              "      fill: #D2E3FC;\n",
              "    }\n",
              "\n",
              "    [theme=dark] .colab-df-convert:hover {\n",
              "      background-color: #434B5C;\n",
              "      box-shadow: 0px 1px 3px 1px rgba(0, 0, 0, 0.15);\n",
              "      filter: drop-shadow(0px 1px 2px rgba(0, 0, 0, 0.3));\n",
              "      fill: #FFFFFF;\n",
              "    }\n",
              "  </style>\n",
              "\n",
              "    <script>\n",
              "      const buttonEl =\n",
              "        document.querySelector('#df-5d60eac8-7a0d-4836-b135-a0821cb49826 button.colab-df-convert');\n",
              "      buttonEl.style.display =\n",
              "        google.colab.kernel.accessAllowed ? 'block' : 'none';\n",
              "\n",
              "      async function convertToInteractive(key) {\n",
              "        const element = document.querySelector('#df-5d60eac8-7a0d-4836-b135-a0821cb49826');\n",
              "        const dataTable =\n",
              "          await google.colab.kernel.invokeFunction('convertToInteractive',\n",
              "                                                    [key], {});\n",
              "        if (!dataTable) return;\n",
              "\n",
              "        const docLinkHtml = 'Like what you see? Visit the ' +\n",
              "          '<a target=\"_blank\" href=https://colab.research.google.com/notebooks/data_table.ipynb>data table notebook</a>'\n",
              "          + ' to learn more about interactive tables.';\n",
              "        element.innerHTML = '';\n",
              "        dataTable['output_type'] = 'display_data';\n",
              "        await google.colab.output.renderOutput(dataTable, element);\n",
              "        const docLink = document.createElement('div');\n",
              "        docLink.innerHTML = docLinkHtml;\n",
              "        element.appendChild(docLink);\n",
              "      }\n",
              "    </script>\n",
              "  </div>\n",
              "\n",
              "\n",
              "<div id=\"df-671cfac6-bc8b-46ad-8dfa-fdee992a471d\">\n",
              "  <button class=\"colab-df-quickchart\" onclick=\"quickchart('df-671cfac6-bc8b-46ad-8dfa-fdee992a471d')\"\n",
              "            title=\"Suggest charts\"\n",
              "            style=\"display:none;\">\n",
              "\n",
              "<svg xmlns=\"http://www.w3.org/2000/svg\" height=\"24px\"viewBox=\"0 0 24 24\"\n",
              "     width=\"24px\">\n",
              "    <g>\n",
              "        <path d=\"M19 3H5c-1.1 0-2 .9-2 2v14c0 1.1.9 2 2 2h14c1.1 0 2-.9 2-2V5c0-1.1-.9-2-2-2zM9 17H7v-7h2v7zm4 0h-2V7h2v10zm4 0h-2v-4h2v4z\"/>\n",
              "    </g>\n",
              "</svg>\n",
              "  </button>\n",
              "\n",
              "<style>\n",
              "  .colab-df-quickchart {\n",
              "      --bg-color: #E8F0FE;\n",
              "      --fill-color: #1967D2;\n",
              "      --hover-bg-color: #E2EBFA;\n",
              "      --hover-fill-color: #174EA6;\n",
              "      --disabled-fill-color: #AAA;\n",
              "      --disabled-bg-color: #DDD;\n",
              "  }\n",
              "\n",
              "  [theme=dark] .colab-df-quickchart {\n",
              "      --bg-color: #3B4455;\n",
              "      --fill-color: #D2E3FC;\n",
              "      --hover-bg-color: #434B5C;\n",
              "      --hover-fill-color: #FFFFFF;\n",
              "      --disabled-bg-color: #3B4455;\n",
              "      --disabled-fill-color: #666;\n",
              "  }\n",
              "\n",
              "  .colab-df-quickchart {\n",
              "    background-color: var(--bg-color);\n",
              "    border: none;\n",
              "    border-radius: 50%;\n",
              "    cursor: pointer;\n",
              "    display: none;\n",
              "    fill: var(--fill-color);\n",
              "    height: 32px;\n",
              "    padding: 0;\n",
              "    width: 32px;\n",
              "  }\n",
              "\n",
              "  .colab-df-quickchart:hover {\n",
              "    background-color: var(--hover-bg-color);\n",
              "    box-shadow: 0 1px 2px rgba(60, 64, 67, 0.3), 0 1px 3px 1px rgba(60, 64, 67, 0.15);\n",
              "    fill: var(--button-hover-fill-color);\n",
              "  }\n",
              "\n",
              "  .colab-df-quickchart-complete:disabled,\n",
              "  .colab-df-quickchart-complete:disabled:hover {\n",
              "    background-color: var(--disabled-bg-color);\n",
              "    fill: var(--disabled-fill-color);\n",
              "    box-shadow: none;\n",
              "  }\n",
              "\n",
              "  .colab-df-spinner {\n",
              "    border: 2px solid var(--fill-color);\n",
              "    border-color: transparent;\n",
              "    border-bottom-color: var(--fill-color);\n",
              "    animation:\n",
              "      spin 1s steps(1) infinite;\n",
              "  }\n",
              "\n",
              "  @keyframes spin {\n",
              "    0% {\n",
              "      border-color: transparent;\n",
              "      border-bottom-color: var(--fill-color);\n",
              "      border-left-color: var(--fill-color);\n",
              "    }\n",
              "    20% {\n",
              "      border-color: transparent;\n",
              "      border-left-color: var(--fill-color);\n",
              "      border-top-color: var(--fill-color);\n",
              "    }\n",
              "    30% {\n",
              "      border-color: transparent;\n",
              "      border-left-color: var(--fill-color);\n",
              "      border-top-color: var(--fill-color);\n",
              "      border-right-color: var(--fill-color);\n",
              "    }\n",
              "    40% {\n",
              "      border-color: transparent;\n",
              "      border-right-color: var(--fill-color);\n",
              "      border-top-color: var(--fill-color);\n",
              "    }\n",
              "    60% {\n",
              "      border-color: transparent;\n",
              "      border-right-color: var(--fill-color);\n",
              "    }\n",
              "    80% {\n",
              "      border-color: transparent;\n",
              "      border-right-color: var(--fill-color);\n",
              "      border-bottom-color: var(--fill-color);\n",
              "    }\n",
              "    90% {\n",
              "      border-color: transparent;\n",
              "      border-bottom-color: var(--fill-color);\n",
              "    }\n",
              "  }\n",
              "</style>\n",
              "\n",
              "  <script>\n",
              "    async function quickchart(key) {\n",
              "      const quickchartButtonEl =\n",
              "        document.querySelector('#' + key + ' button');\n",
              "      quickchartButtonEl.disabled = true;  // To prevent multiple clicks.\n",
              "      quickchartButtonEl.classList.add('colab-df-spinner');\n",
              "      try {\n",
              "        const charts = await google.colab.kernel.invokeFunction(\n",
              "            'suggestCharts', [key], {});\n",
              "      } catch (error) {\n",
              "        console.error('Error during call to suggestCharts:', error);\n",
              "      }\n",
              "      quickchartButtonEl.classList.remove('colab-df-spinner');\n",
              "      quickchartButtonEl.classList.add('colab-df-quickchart-complete');\n",
              "    }\n",
              "    (() => {\n",
              "      let quickchartButtonEl =\n",
              "        document.querySelector('#df-671cfac6-bc8b-46ad-8dfa-fdee992a471d button');\n",
              "      quickchartButtonEl.style.display =\n",
              "        google.colab.kernel.accessAllowed ? 'block' : 'none';\n",
              "    })();\n",
              "  </script>\n",
              "</div>\n",
              "\n",
              "  <div id=\"id_41f68695-912e-4ad3-8b35-ef042d52adc8\">\n",
              "    <style>\n",
              "      .colab-df-generate {\n",
              "        background-color: #E8F0FE;\n",
              "        border: none;\n",
              "        border-radius: 50%;\n",
              "        cursor: pointer;\n",
              "        display: none;\n",
              "        fill: #1967D2;\n",
              "        height: 32px;\n",
              "        padding: 0 0 0 0;\n",
              "        width: 32px;\n",
              "      }\n",
              "\n",
              "      .colab-df-generate:hover {\n",
              "        background-color: #E2EBFA;\n",
              "        box-shadow: 0px 1px 2px rgba(60, 64, 67, 0.3), 0px 1px 3px 1px rgba(60, 64, 67, 0.15);\n",
              "        fill: #174EA6;\n",
              "      }\n",
              "\n",
              "      [theme=dark] .colab-df-generate {\n",
              "        background-color: #3B4455;\n",
              "        fill: #D2E3FC;\n",
              "      }\n",
              "\n",
              "      [theme=dark] .colab-df-generate:hover {\n",
              "        background-color: #434B5C;\n",
              "        box-shadow: 0px 1px 3px 1px rgba(0, 0, 0, 0.15);\n",
              "        filter: drop-shadow(0px 1px 2px rgba(0, 0, 0, 0.3));\n",
              "        fill: #FFFFFF;\n",
              "      }\n",
              "    </style>\n",
              "    <button class=\"colab-df-generate\" onclick=\"generateWithVariable('df')\"\n",
              "            title=\"Generate code using this dataframe.\"\n",
              "            style=\"display:none;\">\n",
              "\n",
              "  <svg xmlns=\"http://www.w3.org/2000/svg\" height=\"24px\"viewBox=\"0 0 24 24\"\n",
              "       width=\"24px\">\n",
              "    <path d=\"M7,19H8.4L18.45,9,17,7.55,7,17.6ZM5,21V16.75L18.45,3.32a2,2,0,0,1,2.83,0l1.4,1.43a1.91,1.91,0,0,1,.58,1.4,1.91,1.91,0,0,1-.58,1.4L9.25,21ZM18.45,9,17,7.55Zm-12,3A5.31,5.31,0,0,0,4.9,8.1,5.31,5.31,0,0,0,1,6.5,5.31,5.31,0,0,0,4.9,4.9,5.31,5.31,0,0,0,6.5,1,5.31,5.31,0,0,0,8.1,4.9,5.31,5.31,0,0,0,12,6.5,5.46,5.46,0,0,0,6.5,12Z\"/>\n",
              "  </svg>\n",
              "    </button>\n",
              "    <script>\n",
              "      (() => {\n",
              "      const buttonEl =\n",
              "        document.querySelector('#id_41f68695-912e-4ad3-8b35-ef042d52adc8 button.colab-df-generate');\n",
              "      buttonEl.style.display =\n",
              "        google.colab.kernel.accessAllowed ? 'block' : 'none';\n",
              "\n",
              "      buttonEl.onclick = () => {\n",
              "        google.colab.notebook.generateWithVariable('df');\n",
              "      }\n",
              "      })();\n",
              "    </script>\n",
              "  </div>\n",
              "\n",
              "    </div>\n",
              "  </div>\n"
            ],
            "application/vnd.google.colaboratory.intrinsic+json": {
              "type": "dataframe",
              "variable_name": "df",
              "summary": "{\n  \"name\": \"df\",\n  \"rows\": 2,\n  \"fields\": [\n    {\n      \"column\": \"qubit pair\",\n      \"properties\": {\n        \"dtype\": \"string\",\n        \"num_unique_values\": 2,\n        \"samples\": [\n          [\n            2,\n            1\n          ],\n          [\n            1,\n            0\n          ]\n        ],\n        \"semantic_type\": \"\",\n        \"description\": \"\"\n      }\n    },\n    {\n      \"column\": \"alpha\",\n      \"properties\": {\n        \"dtype\": \"number\",\n        \"std\": 0.002038536181921432,\n        \"min\": 0.9858914775029908,\n        \"max\": 0.9887744030188523,\n        \"num_unique_values\": 2,\n        \"samples\": [\n          0.9858914775029908,\n          0.9887744030188523\n        ],\n        \"semantic_type\": \"\",\n        \"description\": \"\"\n      }\n    },\n    {\n      \"column\": \"process fidelity\",\n      \"properties\": {\n        \"dtype\": \"number\",\n        \"std\": 0.0019111276705512936,\n        \"min\": 0.986773260159054,\n        \"max\": 0.9894760028301741,\n        \"num_unique_values\": 2,\n        \"samples\": [\n          0.986773260159054,\n          0.9894760028301741\n        ],\n        \"semantic_type\": \"\",\n        \"description\": \"\"\n      }\n    }\n  ]\n}"
            }
          },
          "metadata": {},
          "execution_count": 37
        }
      ],
      "source": [
        "import pandas as pd\n",
        "\n",
        "qubit_pairs = [item for pair in zip(LAYER_1_ANSWER, LAYER_2_ANSWER) for item in pair]\n",
        "pfs = [cal_process_fid(alpha) for alpha in alphas]\n",
        "df = pd.DataFrame(zip(qubit_pairs, alphas, pfs), columns=['qubit pair', 'alpha', 'process fidelity'])\n",
        "df"
      ]
    },
    {
      "cell_type": "markdown",
      "metadata": {
        "id": "KqIsFWU0LcjM"
      },
      "source": [
        "We now proceed to use the 2-qubit process fidelity `pfs` calculated above to compute the Layer Fidelity. For each value of the chain size, we take the largest Layer Fidelity from all the subchains measured. At the two ends of the chain, the 1-qubit process fidelity is approximated by the square root of the 2-qubit process fidelity. The data analysis code is adapted from the notebook [here](https://github.com/qiskit-community/qiskit-device-benchmarking/blob/main/notebooks/layer_fidelity.ipynb).  "
      ]
    },
    {
      "cell_type": "code",
      "execution_count": null,
      "metadata": {
        "id": "TgrNRApTLcjM"
      },
      "outputs": [],
      "source": [
        "# Compute layer fidelity\n",
        "chain_lens = np.arange(2, len(pfs), 1)\n",
        "chain_fids = []\n",
        "for length in chain_lens:\n",
        "     w = length + 1  # window size\n",
        "     fid_w = max(\n",
        "          np.sqrt(pfs[s]) * np.prod(pfs[s + 1 : s + w - 1]) * np.sqrt(pfs[s + w - 1]) for s in range(len(pfs) - w + 1))\n",
        "     chain_fids.append(fid_w)"
      ]
    },
    {
      "cell_type": "markdown",
      "metadata": {
        "id": "zGrXnrzYLcjM"
      },
      "source": [
        "Now we can present the Layer Fidelity as a function of our chain length. This should decrease for larger chains."
      ]
    },
    {
      "cell_type": "code",
      "execution_count": null,
      "metadata": {
        "colab": {
          "base_uri": "https://localhost:8080/",
          "height": 472
        },
        "id": "AlzIMCkVLcjM",
        "outputId": "cb69ea58-deb6-47bb-c1d4-ab812f914bee"
      },
      "outputs": [
        {
          "output_type": "display_data",
          "data": {
            "text/plain": [
              "<Figure size 640x480 with 1 Axes>"
            ],
            "image/png": "[encoded data removed]"
          },
          "metadata": {}
        }
      ],
      "source": [
        "# Plot LF by chain length\n",
        "plt.title(f\"Backend: {BACKEND.name}\")\n",
        "plt.plot(\n",
        "    chain_lens,\n",
        "    chain_fids,\n",
        "    marker=\"o\",\n",
        "    linestyle=\"-\",\n",
        ")\n",
        "plt.xlim(0, chain_lens[-1] * 1.05)\n",
        "plt.ylim(0.95 * min(chain_fids), 1)\n",
        "plt.ylabel(\"Layer Fidelity\")\n",
        "plt.xlabel(\"Chain Length\")\n",
        "plt.grid()\n",
        "plt.show()"
      ]
    },
    {
      "cell_type": "markdown",
      "metadata": {
        "id": "ReyELd0uLcjM"
      },
      "source": [
        "Then, at long last, we can calculate the EPLG as a function of chain length. EPLG is defined as\n",
        "$$\n",
        "EPLG = 1 − LF^{1/n_{2q}}\n",
        "$$\n",
        "where $n_{2q}$ is the number of two-qubit gates in all the layers"
      ]
    },
    {
      "cell_type": "code",
      "execution_count": null,
      "metadata": {
        "colab": {
          "base_uri": "https://localhost:8080/",
          "height": 472
        },
        "id": "948rPqHfLcjM",
        "outputId": "e38ea23a-1b49-4d90-be00-cf9104582af0"
      },
      "outputs": [
        {
          "output_type": "display_data",
          "data": {
            "text/plain": [
              "<Figure size 640x480 with 1 Axes>"
            ],
            "image/png": "[encoded data removed]"
          },
          "metadata": {}
        }
      ],
      "source": [
        "# Plot EPLG by chain length\n",
        "num_2q_gates = [length - 1 for length in chain_lens]\n",
        "chain_eplgs = [\n",
        "    1 - (fid ** (1 / num_2q)) for num_2q, fid in zip(num_2q_gates, chain_fids)\n",
        "]\n",
        "plt.title(f\"Backend: {BACKEND.name}\")\n",
        "plt.plot(\n",
        "    chain_lens,\n",
        "    chain_eplgs,\n",
        "    marker=\"o\",\n",
        "    linestyle=\"-\",\n",
        ")\n",
        "plt.xlim(0, chain_lens[-1] * 1.05)\n",
        "plt.ylabel(\"Error per Layered Gates\")\n",
        "plt.xlabel(\"Chain Length\")\n",
        "plt.grid()\n",
        "plt.show()"
      ]
    },
    {
      "cell_type": "markdown",
      "metadata": {
        "id": "wVnFL1ubLcjM"
      },
      "source": [
        "This analysis is very useful in diagnosing which qubits and devices to use for utility-scale workloads."
      ]
    },
    {
      "cell_type": "code",
      "execution_count": null,
      "metadata": {
        "colab": {
          "base_uri": "https://localhost:8080/",
          "height": 198
        },
        "id": "tF_IrL75LcjM",
        "outputId": "e50cc0bd-e45b-4fb6-8f18-21d4f260c80f"
      },
      "outputs": [
        {
          "output_type": "display_data",
          "data": {
            "text/plain": [
              "<IPython.core.display.HTML object>"
            ],
            "text/html": [
              "<div style='width: 100%; background-color:#d5d9e0;padding-left: 10px; padding-bottom: 10px; padding-right: 10px; padding-top: 5px'><p>&copy; Copyright IBM 2017, 2024.</p><p>This code is licensed under the Apache License, Version 2.0. You may<br>obtain a copy of this license in the LICENSE.txt file in the root directory<br> of this source tree or at http://www.apache.org/licenses/LICENSE-2.0.<p>Any modifications or derivative works of this code must retain this<br>copyright notice, and modified files need to carry a notice indicating<br>that they have been altered from the originals.</p></div>"
            ]
          },
          "metadata": {}
        }
      ],
      "source": [
        "import datetime\n",
        "from IPython.display import HTML, display\n",
        "\n",
        "\n",
        "def qiskit_copyright(line=\"\", cell=None):\n",
        "    \"\"\"IBM copyright\"\"\"\n",
        "    now = datetime.datetime.now()\n",
        "\n",
        "    html = \"<div style='width: 100%; background-color:#d5d9e0;\"\n",
        "    html += \"padding-left: 10px; padding-bottom: 10px; padding-right: 10px; padding-top: 5px'>\"\n",
        "    html += \"<p>&copy; Copyright IBM 2017, %s.</p>\" % now.year\n",
        "    html += \"<p>This code is licensed under the Apache License, Version 2.0. You may<br>\"\n",
        "    html += \"obtain a copy of this license in the LICENSE.txt file in the root directory<br> \"\n",
        "    html += \"of this source tree or at http://www.apache.org/licenses/LICENSE-2.0.\"\n",
        "\n",
        "    html += \"<p>Any modifications or derivative works of this code must retain this<br>\"\n",
        "    html += \"copyright notice, and modified files need to carry a notice indicating<br>\"\n",
        "    html += \"that they have been altered from the originals.</p>\"\n",
        "    html += \"</div>\"\n",
        "    return display(HTML(html))\n",
        "\n",
        "\n",
        "qiskit_copyright()"
      ]
    }
  ],
  "metadata": {
    "kernelspec": {
      "display_name": "runtime-latest",
      "language": "python",
      "name": "python3"
    },
    "language_info": {
      "codemirror_mode": {
        "name": "ipython",
        "version": 3
      },
      "file_extension": ".py",
      "mimetype": "text/x-python",
      "name": "python",
      "nbconvert_exporter": "python",
      "pygments_lexer": "ipython3",
      "version": "3.11.6"
    },
    "colab": {
      "provenance": []
    }
  },
  "nbformat": 4,
  "nbformat_minor": 0
}